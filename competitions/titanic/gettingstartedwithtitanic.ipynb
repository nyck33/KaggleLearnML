{
 "cells": [
  {
   "cell_type": "code",
   "execution_count": 17,
   "metadata": {
    "_cell_guid": "b1076dfc-b9ad-4769-8c92-a6c4dae69d19",
    "_uuid": "8f2839f25d086af736a60e9eeb907d3b93b6e0e5"
   },
   "outputs": [
    {
     "name": "stdout",
     "output_type": "stream",
     "text": [
      "data/gender_submission.csv\n",
      "data/test.csv\n",
      "data/train.csv\n"
     ]
    }
   ],
   "source": [
    "# This Python 3 environment comes with many helpful analytics libraries installed\n",
    "# It is defined by the kaggle/python Docker image: https://github.com/kaggle/docker-python\n",
    "# For example, here's several helpful packages to load\n",
    "\n",
    "import numpy as np # linear algebra\n",
    "import pandas as pd # data processing, CSV file I/O (e.g. pd.read_csv)\n",
    "\n",
    "# Input data files are available in the read-only \"../input/\" directory\n",
    "# For example, running this (by clicking run or pressing Shift+Enter) will list all files under the input directory\n",
    "\n",
    "import os\n",
    "for dirname, _, filenames in os.walk('data'):\n",
    "    for filename in filenames:\n",
    "        print(os.path.join(dirname, filename))\n",
    "\n",
    "# You can write up to 20GB to the current directory (/kaggle/working/) that gets preserved as output when you create a version using \"Save & Run All\" \n",
    "# You can also write temporary files to /kaggle/temp/, but they won't be saved outside of the current session"
   ]
  },
  {
   "cell_type": "code",
   "execution_count": 2,
   "metadata": {},
   "outputs": [
    {
     "data": {
      "text/html": [
       "<div>\n",
       "<style scoped>\n",
       "    .dataframe tbody tr th:only-of-type {\n",
       "        vertical-align: middle;\n",
       "    }\n",
       "\n",
       "    .dataframe tbody tr th {\n",
       "        vertical-align: top;\n",
       "    }\n",
       "\n",
       "    .dataframe thead th {\n",
       "        text-align: right;\n",
       "    }\n",
       "</style>\n",
       "<table border=\"1\" class=\"dataframe\">\n",
       "  <thead>\n",
       "    <tr style=\"text-align: right;\">\n",
       "      <th></th>\n",
       "      <th>PassengerId</th>\n",
       "      <th>Survived</th>\n",
       "      <th>Pclass</th>\n",
       "      <th>Name</th>\n",
       "      <th>Sex</th>\n",
       "      <th>Age</th>\n",
       "      <th>SibSp</th>\n",
       "      <th>Parch</th>\n",
       "      <th>Ticket</th>\n",
       "      <th>Fare</th>\n",
       "      <th>Cabin</th>\n",
       "      <th>Embarked</th>\n",
       "    </tr>\n",
       "  </thead>\n",
       "  <tbody>\n",
       "    <tr>\n",
       "      <th>0</th>\n",
       "      <td>1</td>\n",
       "      <td>0</td>\n",
       "      <td>3</td>\n",
       "      <td>Braund, Mr. Owen Harris</td>\n",
       "      <td>male</td>\n",
       "      <td>22.0</td>\n",
       "      <td>1</td>\n",
       "      <td>0</td>\n",
       "      <td>A/5 21171</td>\n",
       "      <td>7.2500</td>\n",
       "      <td>NaN</td>\n",
       "      <td>S</td>\n",
       "    </tr>\n",
       "    <tr>\n",
       "      <th>1</th>\n",
       "      <td>2</td>\n",
       "      <td>1</td>\n",
       "      <td>1</td>\n",
       "      <td>Cumings, Mrs. John Bradley (Florence Briggs Th...</td>\n",
       "      <td>female</td>\n",
       "      <td>38.0</td>\n",
       "      <td>1</td>\n",
       "      <td>0</td>\n",
       "      <td>PC 17599</td>\n",
       "      <td>71.2833</td>\n",
       "      <td>C85</td>\n",
       "      <td>C</td>\n",
       "    </tr>\n",
       "    <tr>\n",
       "      <th>2</th>\n",
       "      <td>3</td>\n",
       "      <td>1</td>\n",
       "      <td>3</td>\n",
       "      <td>Heikkinen, Miss. Laina</td>\n",
       "      <td>female</td>\n",
       "      <td>26.0</td>\n",
       "      <td>0</td>\n",
       "      <td>0</td>\n",
       "      <td>STON/O2. 3101282</td>\n",
       "      <td>7.9250</td>\n",
       "      <td>NaN</td>\n",
       "      <td>S</td>\n",
       "    </tr>\n",
       "    <tr>\n",
       "      <th>3</th>\n",
       "      <td>4</td>\n",
       "      <td>1</td>\n",
       "      <td>1</td>\n",
       "      <td>Futrelle, Mrs. Jacques Heath (Lily May Peel)</td>\n",
       "      <td>female</td>\n",
       "      <td>35.0</td>\n",
       "      <td>1</td>\n",
       "      <td>0</td>\n",
       "      <td>113803</td>\n",
       "      <td>53.1000</td>\n",
       "      <td>C123</td>\n",
       "      <td>S</td>\n",
       "    </tr>\n",
       "    <tr>\n",
       "      <th>4</th>\n",
       "      <td>5</td>\n",
       "      <td>0</td>\n",
       "      <td>3</td>\n",
       "      <td>Allen, Mr. William Henry</td>\n",
       "      <td>male</td>\n",
       "      <td>35.0</td>\n",
       "      <td>0</td>\n",
       "      <td>0</td>\n",
       "      <td>373450</td>\n",
       "      <td>8.0500</td>\n",
       "      <td>NaN</td>\n",
       "      <td>S</td>\n",
       "    </tr>\n",
       "  </tbody>\n",
       "</table>\n",
       "</div>"
      ],
      "text/plain": [
       "   PassengerId  Survived  Pclass   \n",
       "0            1         0       3  \\\n",
       "1            2         1       1   \n",
       "2            3         1       3   \n",
       "3            4         1       1   \n",
       "4            5         0       3   \n",
       "\n",
       "                                                Name     Sex   Age  SibSp   \n",
       "0                            Braund, Mr. Owen Harris    male  22.0      1  \\\n",
       "1  Cumings, Mrs. John Bradley (Florence Briggs Th...  female  38.0      1   \n",
       "2                             Heikkinen, Miss. Laina  female  26.0      0   \n",
       "3       Futrelle, Mrs. Jacques Heath (Lily May Peel)  female  35.0      1   \n",
       "4                           Allen, Mr. William Henry    male  35.0      0   \n",
       "\n",
       "   Parch            Ticket     Fare Cabin Embarked  \n",
       "0      0         A/5 21171   7.2500   NaN        S  \n",
       "1      0          PC 17599  71.2833   C85        C  \n",
       "2      0  STON/O2. 3101282   7.9250   NaN        S  \n",
       "3      0            113803  53.1000  C123        S  \n",
       "4      0            373450   8.0500   NaN        S  "
      ]
     },
     "execution_count": 2,
     "metadata": {},
     "output_type": "execute_result"
    }
   ],
   "source": [
    "train_data = pd.read_csv(\"data/train.csv\")\n",
    "train_data.head()"
   ]
  },
  {
   "cell_type": "code",
   "execution_count": 3,
   "metadata": {},
   "outputs": [
    {
     "data": {
      "text/html": [
       "<div>\n",
       "<style scoped>\n",
       "    .dataframe tbody tr th:only-of-type {\n",
       "        vertical-align: middle;\n",
       "    }\n",
       "\n",
       "    .dataframe tbody tr th {\n",
       "        vertical-align: top;\n",
       "    }\n",
       "\n",
       "    .dataframe thead th {\n",
       "        text-align: right;\n",
       "    }\n",
       "</style>\n",
       "<table border=\"1\" class=\"dataframe\">\n",
       "  <thead>\n",
       "    <tr style=\"text-align: right;\">\n",
       "      <th></th>\n",
       "      <th>PassengerId</th>\n",
       "      <th>Pclass</th>\n",
       "      <th>Name</th>\n",
       "      <th>Sex</th>\n",
       "      <th>Age</th>\n",
       "      <th>SibSp</th>\n",
       "      <th>Parch</th>\n",
       "      <th>Ticket</th>\n",
       "      <th>Fare</th>\n",
       "      <th>Cabin</th>\n",
       "      <th>Embarked</th>\n",
       "    </tr>\n",
       "  </thead>\n",
       "  <tbody>\n",
       "    <tr>\n",
       "      <th>0</th>\n",
       "      <td>892</td>\n",
       "      <td>3</td>\n",
       "      <td>Kelly, Mr. James</td>\n",
       "      <td>male</td>\n",
       "      <td>34.5</td>\n",
       "      <td>0</td>\n",
       "      <td>0</td>\n",
       "      <td>330911</td>\n",
       "      <td>7.8292</td>\n",
       "      <td>NaN</td>\n",
       "      <td>Q</td>\n",
       "    </tr>\n",
       "    <tr>\n",
       "      <th>1</th>\n",
       "      <td>893</td>\n",
       "      <td>3</td>\n",
       "      <td>Wilkes, Mrs. James (Ellen Needs)</td>\n",
       "      <td>female</td>\n",
       "      <td>47.0</td>\n",
       "      <td>1</td>\n",
       "      <td>0</td>\n",
       "      <td>363272</td>\n",
       "      <td>7.0000</td>\n",
       "      <td>NaN</td>\n",
       "      <td>S</td>\n",
       "    </tr>\n",
       "    <tr>\n",
       "      <th>2</th>\n",
       "      <td>894</td>\n",
       "      <td>2</td>\n",
       "      <td>Myles, Mr. Thomas Francis</td>\n",
       "      <td>male</td>\n",
       "      <td>62.0</td>\n",
       "      <td>0</td>\n",
       "      <td>0</td>\n",
       "      <td>240276</td>\n",
       "      <td>9.6875</td>\n",
       "      <td>NaN</td>\n",
       "      <td>Q</td>\n",
       "    </tr>\n",
       "    <tr>\n",
       "      <th>3</th>\n",
       "      <td>895</td>\n",
       "      <td>3</td>\n",
       "      <td>Wirz, Mr. Albert</td>\n",
       "      <td>male</td>\n",
       "      <td>27.0</td>\n",
       "      <td>0</td>\n",
       "      <td>0</td>\n",
       "      <td>315154</td>\n",
       "      <td>8.6625</td>\n",
       "      <td>NaN</td>\n",
       "      <td>S</td>\n",
       "    </tr>\n",
       "    <tr>\n",
       "      <th>4</th>\n",
       "      <td>896</td>\n",
       "      <td>3</td>\n",
       "      <td>Hirvonen, Mrs. Alexander (Helga E Lindqvist)</td>\n",
       "      <td>female</td>\n",
       "      <td>22.0</td>\n",
       "      <td>1</td>\n",
       "      <td>1</td>\n",
       "      <td>3101298</td>\n",
       "      <td>12.2875</td>\n",
       "      <td>NaN</td>\n",
       "      <td>S</td>\n",
       "    </tr>\n",
       "  </tbody>\n",
       "</table>\n",
       "</div>"
      ],
      "text/plain": [
       "   PassengerId  Pclass                                          Name     Sex   \n",
       "0          892       3                              Kelly, Mr. James    male  \\\n",
       "1          893       3              Wilkes, Mrs. James (Ellen Needs)  female   \n",
       "2          894       2                     Myles, Mr. Thomas Francis    male   \n",
       "3          895       3                              Wirz, Mr. Albert    male   \n",
       "4          896       3  Hirvonen, Mrs. Alexander (Helga E Lindqvist)  female   \n",
       "\n",
       "    Age  SibSp  Parch   Ticket     Fare Cabin Embarked  \n",
       "0  34.5      0      0   330911   7.8292   NaN        Q  \n",
       "1  47.0      1      0   363272   7.0000   NaN        S  \n",
       "2  62.0      0      0   240276   9.6875   NaN        Q  \n",
       "3  27.0      0      0   315154   8.6625   NaN        S  \n",
       "4  22.0      1      1  3101298  12.2875   NaN        S  "
      ]
     },
     "execution_count": 3,
     "metadata": {},
     "output_type": "execute_result"
    }
   ],
   "source": [
    "test_data = pd.read_csv(\"data/test.csv\")\n",
    "test_data.head()"
   ]
  },
  {
   "cell_type": "code",
   "execution_count": 4,
   "metadata": {},
   "outputs": [
    {
     "name": "stdout",
     "output_type": "stream",
     "text": [
      "% of women who survived:  0.7420382165605095\n"
     ]
    }
   ],
   "source": [
    "women = train_data.loc[train_data.Sex == 'female']['Survived']\n",
    "rate_women = sum(women) / len(women)\n",
    "print(\"% of women who survived: \", rate_women)"
   ]
  },
  {
   "cell_type": "code",
   "execution_count": 5,
   "metadata": {},
   "outputs": [
    {
     "name": "stdout",
     "output_type": "stream",
     "text": [
      "% men who survived:  0.18890814558058924\n"
     ]
    }
   ],
   "source": [
    "men = train_data.loc[train_data.Sex=='male'][\"Survived\"]\n",
    "rate_men = sum(men) / (len(men))\n",
    "\n",
    "print(\"% men who survived: \", rate_men)"
   ]
  },
  {
   "cell_type": "code",
   "execution_count": 12,
   "metadata": {},
   "outputs": [
    {
     "name": "stdout",
     "output_type": "stream",
     "text": [
      "/bin/bash: /home/nobu/miniconda3/envs/tf/lib/libtinfo.so.6: no version information available (required by /bin/bash)\n",
      "Collecting scikit-learn\n",
      "  Downloading scikit_learn-1.2.2-cp39-cp39-manylinux_2_17_x86_64.manylinux2014_x86_64.whl (9.6 MB)\n",
      "\u001b[2K     \u001b[90m━━━━━━━━━━━━━━━━━━━━━━━━━━━━━━━━━━━━━━━━\u001b[0m \u001b[32m9.6/9.6 MB\u001b[0m \u001b[31m8.8 MB/s\u001b[0m eta \u001b[36m0:00:00\u001b[0m00:01\u001b[0m00:01\u001b[0m\n",
      "\u001b[?25hRequirement already satisfied: numpy>=1.17.3 in /home/nobu/miniconda3/envs/tf/lib/python3.9/site-packages (from scikit-learn) (1.23.5)\n",
      "Requirement already satisfied: scipy>=1.3.2 in /home/nobu/miniconda3/envs/tf/lib/python3.9/site-packages (from scikit-learn) (1.10.1)\n",
      "Collecting joblib>=1.1.1 (from scikit-learn)\n",
      "  Using cached joblib-1.2.0-py3-none-any.whl (297 kB)\n",
      "Collecting threadpoolctl>=2.0.0 (from scikit-learn)\n",
      "  Using cached threadpoolctl-3.1.0-py3-none-any.whl (14 kB)\n",
      "Installing collected packages: threadpoolctl, joblib, scikit-learn\n",
      "Successfully installed joblib-1.2.0 scikit-learn-1.2.2 threadpoolctl-3.1.0\n"
     ]
    }
   ],
   "source": [
    "! pip install -U scikit-learn"
   ]
  },
  {
   "cell_type": "code",
   "execution_count": 6,
   "metadata": {},
   "outputs": [
    {
     "data": {
      "text/html": [
       "<div>\n",
       "<style scoped>\n",
       "    .dataframe tbody tr th:only-of-type {\n",
       "        vertical-align: middle;\n",
       "    }\n",
       "\n",
       "    .dataframe tbody tr th {\n",
       "        vertical-align: top;\n",
       "    }\n",
       "\n",
       "    .dataframe thead th {\n",
       "        text-align: right;\n",
       "    }\n",
       "</style>\n",
       "<table border=\"1\" class=\"dataframe\">\n",
       "  <thead>\n",
       "    <tr style=\"text-align: right;\">\n",
       "      <th></th>\n",
       "      <th>Pclass</th>\n",
       "      <th>Sex</th>\n",
       "      <th>SibSp</th>\n",
       "      <th>Parch</th>\n",
       "    </tr>\n",
       "  </thead>\n",
       "  <tbody>\n",
       "    <tr>\n",
       "      <th>0</th>\n",
       "      <td>3</td>\n",
       "      <td>male</td>\n",
       "      <td>1</td>\n",
       "      <td>0</td>\n",
       "    </tr>\n",
       "    <tr>\n",
       "      <th>1</th>\n",
       "      <td>1</td>\n",
       "      <td>female</td>\n",
       "      <td>1</td>\n",
       "      <td>0</td>\n",
       "    </tr>\n",
       "    <tr>\n",
       "      <th>2</th>\n",
       "      <td>3</td>\n",
       "      <td>female</td>\n",
       "      <td>0</td>\n",
       "      <td>0</td>\n",
       "    </tr>\n",
       "    <tr>\n",
       "      <th>3</th>\n",
       "      <td>1</td>\n",
       "      <td>female</td>\n",
       "      <td>1</td>\n",
       "      <td>0</td>\n",
       "    </tr>\n",
       "    <tr>\n",
       "      <th>4</th>\n",
       "      <td>3</td>\n",
       "      <td>male</td>\n",
       "      <td>0</td>\n",
       "      <td>0</td>\n",
       "    </tr>\n",
       "  </tbody>\n",
       "</table>\n",
       "</div>"
      ],
      "text/plain": [
       "   Pclass     Sex  SibSp  Parch\n",
       "0       3    male      1      0\n",
       "1       1  female      1      0\n",
       "2       3  female      0      0\n",
       "3       1  female      1      0\n",
       "4       3    male      0      0"
      ]
     },
     "execution_count": 6,
     "metadata": {},
     "output_type": "execute_result"
    }
   ],
   "source": [
    "# check data\n",
    "#from preprocess_data import *\n",
    "features = [\"Pclass\", \"Sex\", \"SibSp\", \"Parch\"]\n",
    "\n",
    "trainDataFeatures = train_data[features]\n",
    "trainDataFeatures.head()"
   ]
  },
  {
   "cell_type": "code",
   "execution_count": 7,
   "metadata": {},
   "outputs": [
    {
     "data": {
      "text/html": [
       "<style>#sk-container-id-1 {color: black;background-color: white;}#sk-container-id-1 pre{padding: 0;}#sk-container-id-1 div.sk-toggleable {background-color: white;}#sk-container-id-1 label.sk-toggleable__label {cursor: pointer;display: block;width: 100%;margin-bottom: 0;padding: 0.3em;box-sizing: border-box;text-align: center;}#sk-container-id-1 label.sk-toggleable__label-arrow:before {content: \"▸\";float: left;margin-right: 0.25em;color: #696969;}#sk-container-id-1 label.sk-toggleable__label-arrow:hover:before {color: black;}#sk-container-id-1 div.sk-estimator:hover label.sk-toggleable__label-arrow:before {color: black;}#sk-container-id-1 div.sk-toggleable__content {max-height: 0;max-width: 0;overflow: hidden;text-align: left;background-color: #f0f8ff;}#sk-container-id-1 div.sk-toggleable__content pre {margin: 0.2em;color: black;border-radius: 0.25em;background-color: #f0f8ff;}#sk-container-id-1 input.sk-toggleable__control:checked~div.sk-toggleable__content {max-height: 200px;max-width: 100%;overflow: auto;}#sk-container-id-1 input.sk-toggleable__control:checked~label.sk-toggleable__label-arrow:before {content: \"▾\";}#sk-container-id-1 div.sk-estimator input.sk-toggleable__control:checked~label.sk-toggleable__label {background-color: #d4ebff;}#sk-container-id-1 div.sk-label input.sk-toggleable__control:checked~label.sk-toggleable__label {background-color: #d4ebff;}#sk-container-id-1 input.sk-hidden--visually {border: 0;clip: rect(1px 1px 1px 1px);clip: rect(1px, 1px, 1px, 1px);height: 1px;margin: -1px;overflow: hidden;padding: 0;position: absolute;width: 1px;}#sk-container-id-1 div.sk-estimator {font-family: monospace;background-color: #f0f8ff;border: 1px dotted black;border-radius: 0.25em;box-sizing: border-box;margin-bottom: 0.5em;}#sk-container-id-1 div.sk-estimator:hover {background-color: #d4ebff;}#sk-container-id-1 div.sk-parallel-item::after {content: \"\";width: 100%;border-bottom: 1px solid gray;flex-grow: 1;}#sk-container-id-1 div.sk-label:hover label.sk-toggleable__label {background-color: #d4ebff;}#sk-container-id-1 div.sk-serial::before {content: \"\";position: absolute;border-left: 1px solid gray;box-sizing: border-box;top: 0;bottom: 0;left: 50%;z-index: 0;}#sk-container-id-1 div.sk-serial {display: flex;flex-direction: column;align-items: center;background-color: white;padding-right: 0.2em;padding-left: 0.2em;position: relative;}#sk-container-id-1 div.sk-item {position: relative;z-index: 1;}#sk-container-id-1 div.sk-parallel {display: flex;align-items: stretch;justify-content: center;background-color: white;position: relative;}#sk-container-id-1 div.sk-item::before, #sk-container-id-1 div.sk-parallel-item::before {content: \"\";position: absolute;border-left: 1px solid gray;box-sizing: border-box;top: 0;bottom: 0;left: 50%;z-index: -1;}#sk-container-id-1 div.sk-parallel-item {display: flex;flex-direction: column;z-index: 1;position: relative;background-color: white;}#sk-container-id-1 div.sk-parallel-item:first-child::after {align-self: flex-end;width: 50%;}#sk-container-id-1 div.sk-parallel-item:last-child::after {align-self: flex-start;width: 50%;}#sk-container-id-1 div.sk-parallel-item:only-child::after {width: 0;}#sk-container-id-1 div.sk-dashed-wrapped {border: 1px dashed gray;margin: 0 0.4em 0.5em 0.4em;box-sizing: border-box;padding-bottom: 0.4em;background-color: white;}#sk-container-id-1 div.sk-label label {font-family: monospace;font-weight: bold;display: inline-block;line-height: 1.2em;}#sk-container-id-1 div.sk-label-container {text-align: center;}#sk-container-id-1 div.sk-container {/* jupyter's `normalize.less` sets `[hidden] { display: none; }` but bootstrap.min.css set `[hidden] { display: none !important; }` so we also need the `!important` here to be able to override the default hidden behavior on the sphinx rendered scikit-learn.org. See: https://github.com/scikit-learn/scikit-learn/issues/21755 */display: inline-block !important;position: relative;}#sk-container-id-1 div.sk-text-repr-fallback {display: none;}</style><div id=\"sk-container-id-1\" class=\"sk-top-container\"><div class=\"sk-text-repr-fallback\"><pre>RandomForestClassifier(max_depth=5, random_state=1)</pre><b>In a Jupyter environment, please rerun this cell to show the HTML representation or trust the notebook. <br />On GitHub, the HTML representation is unable to render, please try loading this page with nbviewer.org.</b></div><div class=\"sk-container\" hidden><div class=\"sk-item\"><div class=\"sk-estimator sk-toggleable\"><input class=\"sk-toggleable__control sk-hidden--visually\" id=\"sk-estimator-id-1\" type=\"checkbox\" checked><label for=\"sk-estimator-id-1\" class=\"sk-toggleable__label sk-toggleable__label-arrow\">RandomForestClassifier</label><div class=\"sk-toggleable__content\"><pre>RandomForestClassifier(max_depth=5, random_state=1)</pre></div></div></div></div></div>"
      ],
      "text/plain": [
       "RandomForestClassifier(max_depth=5, random_state=1)"
      ]
     },
     "execution_count": 7,
     "metadata": {},
     "output_type": "execute_result"
    }
   ],
   "source": [
    "from sklearn.ensemble import RandomForestClassifier\n",
    "\n",
    "y = train_data[\"Survived\"]\n",
    "\n",
    "features = [\"Pclass\", \"Sex\", \"SibSp\", \"Parch\"]\n",
    "\n",
    "X = pd.get_dummies(train_data[features])\n",
    "X_test = pd.get_dummies(test_data[features])\n",
    "\n",
    "model = RandomForestClassifier(n_estimators=100, max_depth=5, random_state=1)\n",
    "model.fit(X, y)\n"
   ]
  },
  {
   "cell_type": "code",
   "execution_count": 8,
   "metadata": {},
   "outputs": [
    {
     "data": {
      "text/html": [
       "<div>\n",
       "<style scoped>\n",
       "    .dataframe tbody tr th:only-of-type {\n",
       "        vertical-align: middle;\n",
       "    }\n",
       "\n",
       "    .dataframe tbody tr th {\n",
       "        vertical-align: top;\n",
       "    }\n",
       "\n",
       "    .dataframe thead th {\n",
       "        text-align: right;\n",
       "    }\n",
       "</style>\n",
       "<table border=\"1\" class=\"dataframe\">\n",
       "  <thead>\n",
       "    <tr style=\"text-align: right;\">\n",
       "      <th></th>\n",
       "      <th>Pclass</th>\n",
       "      <th>SibSp</th>\n",
       "      <th>Parch</th>\n",
       "      <th>Sex_female</th>\n",
       "      <th>Sex_male</th>\n",
       "    </tr>\n",
       "  </thead>\n",
       "  <tbody>\n",
       "    <tr>\n",
       "      <th>0</th>\n",
       "      <td>3</td>\n",
       "      <td>1</td>\n",
       "      <td>0</td>\n",
       "      <td>False</td>\n",
       "      <td>True</td>\n",
       "    </tr>\n",
       "    <tr>\n",
       "      <th>1</th>\n",
       "      <td>1</td>\n",
       "      <td>1</td>\n",
       "      <td>0</td>\n",
       "      <td>True</td>\n",
       "      <td>False</td>\n",
       "    </tr>\n",
       "    <tr>\n",
       "      <th>2</th>\n",
       "      <td>3</td>\n",
       "      <td>0</td>\n",
       "      <td>0</td>\n",
       "      <td>True</td>\n",
       "      <td>False</td>\n",
       "    </tr>\n",
       "    <tr>\n",
       "      <th>3</th>\n",
       "      <td>1</td>\n",
       "      <td>1</td>\n",
       "      <td>0</td>\n",
       "      <td>True</td>\n",
       "      <td>False</td>\n",
       "    </tr>\n",
       "    <tr>\n",
       "      <th>4</th>\n",
       "      <td>3</td>\n",
       "      <td>0</td>\n",
       "      <td>0</td>\n",
       "      <td>False</td>\n",
       "      <td>True</td>\n",
       "    </tr>\n",
       "  </tbody>\n",
       "</table>\n",
       "</div>"
      ],
      "text/plain": [
       "   Pclass  SibSp  Parch  Sex_female  Sex_male\n",
       "0       3      1      0       False      True\n",
       "1       1      1      0        True     False\n",
       "2       3      0      0        True     False\n",
       "3       1      1      0        True     False\n",
       "4       3      0      0       False      True"
      ]
     },
     "execution_count": 8,
     "metadata": {},
     "output_type": "execute_result"
    }
   ],
   "source": [
    "XDum = pd.get_dummies(X)\n",
    "XDum.head()"
   ]
  },
  {
   "cell_type": "code",
   "execution_count": 9,
   "metadata": {},
   "outputs": [
    {
     "data": {
      "text/html": [
       "<div>\n",
       "<style scoped>\n",
       "    .dataframe tbody tr th:only-of-type {\n",
       "        vertical-align: middle;\n",
       "    }\n",
       "\n",
       "    .dataframe tbody tr th {\n",
       "        vertical-align: top;\n",
       "    }\n",
       "\n",
       "    .dataframe thead th {\n",
       "        text-align: right;\n",
       "    }\n",
       "</style>\n",
       "<table border=\"1\" class=\"dataframe\">\n",
       "  <thead>\n",
       "    <tr style=\"text-align: right;\">\n",
       "      <th></th>\n",
       "      <th>PassengerId</th>\n",
       "      <th>Survived</th>\n",
       "    </tr>\n",
       "  </thead>\n",
       "  <tbody>\n",
       "    <tr>\n",
       "      <th>0</th>\n",
       "      <td>892</td>\n",
       "      <td>0</td>\n",
       "    </tr>\n",
       "    <tr>\n",
       "      <th>1</th>\n",
       "      <td>893</td>\n",
       "      <td>1</td>\n",
       "    </tr>\n",
       "    <tr>\n",
       "      <th>2</th>\n",
       "      <td>894</td>\n",
       "      <td>0</td>\n",
       "    </tr>\n",
       "    <tr>\n",
       "      <th>3</th>\n",
       "      <td>895</td>\n",
       "      <td>0</td>\n",
       "    </tr>\n",
       "    <tr>\n",
       "      <th>4</th>\n",
       "      <td>896</td>\n",
       "      <td>1</td>\n",
       "    </tr>\n",
       "  </tbody>\n",
       "</table>\n",
       "</div>"
      ],
      "text/plain": [
       "   PassengerId  Survived\n",
       "0          892         0\n",
       "1          893         1\n",
       "2          894         0\n",
       "3          895         0\n",
       "4          896         1"
      ]
     },
     "execution_count": 9,
     "metadata": {},
     "output_type": "execute_result"
    }
   ],
   "source": [
    "predictions = model.predict(X_test)\n",
    "\n",
    "output = pd.DataFrame({'PassengerId':test_data.PassengerId, \"Survived\":predictions})\n",
    "output.head()"
   ]
  },
  {
   "cell_type": "code",
   "execution_count": 16,
   "metadata": {},
   "outputs": [],
   "source": [
    "output.to_csv('submission.csv', index=False)"
   ]
  },
  {
   "attachments": {},
   "cell_type": "markdown",
   "metadata": {},
   "source": [
    "# Try using TF Keras to predict "
   ]
  },
  {
   "cell_type": "code",
   "execution_count": 10,
   "metadata": {},
   "outputs": [],
   "source": [
    "# X and X_test but X_test does not have Survived so cannot validate\n",
    "import pandas as pd\n",
    "from IPython.display import display\n",
    "\n"
   ]
  },
  {
   "cell_type": "code",
   "execution_count": 11,
   "metadata": {},
   "outputs": [
    {
     "name": "stdout",
     "output_type": "stream",
     "text": [
      "(668, 5) (668,)\n"
     ]
    },
    {
     "data": {
      "text/html": [
       "<div>\n",
       "<style scoped>\n",
       "    .dataframe tbody tr th:only-of-type {\n",
       "        vertical-align: middle;\n",
       "    }\n",
       "\n",
       "    .dataframe tbody tr th {\n",
       "        vertical-align: top;\n",
       "    }\n",
       "\n",
       "    .dataframe thead th {\n",
       "        text-align: right;\n",
       "    }\n",
       "</style>\n",
       "<table border=\"1\" class=\"dataframe\">\n",
       "  <thead>\n",
       "    <tr style=\"text-align: right;\">\n",
       "      <th></th>\n",
       "      <th>0</th>\n",
       "      <th>1</th>\n",
       "      <th>2</th>\n",
       "      <th>3</th>\n",
       "      <th>4</th>\n",
       "    </tr>\n",
       "  </thead>\n",
       "  <tbody>\n",
       "    <tr>\n",
       "      <th>0</th>\n",
       "      <td>3.0</td>\n",
       "      <td>0.0</td>\n",
       "      <td>0.0</td>\n",
       "      <td>0.0</td>\n",
       "      <td>1.0</td>\n",
       "    </tr>\n",
       "    <tr>\n",
       "      <th>1</th>\n",
       "      <td>3.0</td>\n",
       "      <td>4.0</td>\n",
       "      <td>2.0</td>\n",
       "      <td>1.0</td>\n",
       "      <td>0.0</td>\n",
       "    </tr>\n",
       "    <tr>\n",
       "      <th>2</th>\n",
       "      <td>3.0</td>\n",
       "      <td>1.0</td>\n",
       "      <td>0.0</td>\n",
       "      <td>0.0</td>\n",
       "      <td>1.0</td>\n",
       "    </tr>\n",
       "    <tr>\n",
       "      <th>3</th>\n",
       "      <td>3.0</td>\n",
       "      <td>0.0</td>\n",
       "      <td>0.0</td>\n",
       "      <td>0.0</td>\n",
       "      <td>1.0</td>\n",
       "    </tr>\n",
       "    <tr>\n",
       "      <th>4</th>\n",
       "      <td>2.0</td>\n",
       "      <td>0.0</td>\n",
       "      <td>0.0</td>\n",
       "      <td>1.0</td>\n",
       "      <td>0.0</td>\n",
       "    </tr>\n",
       "  </tbody>\n",
       "</table>\n",
       "</div>"
      ],
      "text/plain": [
       "     0    1    2    3    4\n",
       "0  3.0  0.0  0.0  0.0  1.0\n",
       "1  3.0  4.0  2.0  1.0  0.0\n",
       "2  3.0  1.0  0.0  0.0  1.0\n",
       "3  3.0  0.0  0.0  0.0  1.0\n",
       "4  2.0  0.0  0.0  1.0  0.0"
      ]
     },
     "execution_count": 11,
     "metadata": {},
     "output_type": "execute_result"
    }
   ],
   "source": [
    "from sklearn.model_selection import train_test_split\n",
    "\n",
    "train_X, val_X, train_y, val_y = train_test_split(X, y, random_state=0)\n",
    "\n",
    "train_X = np.asarray(train_X).astype(np.float32)\n",
    "val_X = np.asarray(val_X).astype(np.float32)\n",
    "train_y = np.asarray(train_y).astype(np.float32)\n",
    "val_y = np.asarray(val_y).astype(np.float32)\n",
    "\n",
    "# check the shape of the input\n",
    "print(train_X.shape, train_y.shape)\n",
    "trainXDf = pd.DataFrame(train_X)\n",
    "trainXDf.head()\n",
    "#print(train_X.head())"
   ]
  },
  {
   "cell_type": "code",
   "execution_count": 12,
   "metadata": {},
   "outputs": [
    {
     "data": {
      "text/html": [
       "<div>\n",
       "<style scoped>\n",
       "    .dataframe tbody tr th:only-of-type {\n",
       "        vertical-align: middle;\n",
       "    }\n",
       "\n",
       "    .dataframe tbody tr th {\n",
       "        vertical-align: top;\n",
       "    }\n",
       "\n",
       "    .dataframe thead th {\n",
       "        text-align: right;\n",
       "    }\n",
       "</style>\n",
       "<table border=\"1\" class=\"dataframe\">\n",
       "  <thead>\n",
       "    <tr style=\"text-align: right;\">\n",
       "      <th></th>\n",
       "      <th>0</th>\n",
       "      <th>1</th>\n",
       "      <th>2</th>\n",
       "      <th>3</th>\n",
       "      <th>4</th>\n",
       "    </tr>\n",
       "  </thead>\n",
       "  <tbody>\n",
       "    <tr>\n",
       "      <th>0</th>\n",
       "      <td>0.830129</td>\n",
       "      <td>-0.460372</td>\n",
       "      <td>-0.477210</td>\n",
       "      <td>-0.727052</td>\n",
       "      <td>0.727052</td>\n",
       "    </tr>\n",
       "    <tr>\n",
       "      <th>1</th>\n",
       "      <td>0.830129</td>\n",
       "      <td>2.985323</td>\n",
       "      <td>1.956196</td>\n",
       "      <td>1.375418</td>\n",
       "      <td>-1.375418</td>\n",
       "    </tr>\n",
       "    <tr>\n",
       "      <th>2</th>\n",
       "      <td>0.830129</td>\n",
       "      <td>0.401052</td>\n",
       "      <td>-0.477210</td>\n",
       "      <td>-0.727052</td>\n",
       "      <td>0.727052</td>\n",
       "    </tr>\n",
       "    <tr>\n",
       "      <th>3</th>\n",
       "      <td>0.830129</td>\n",
       "      <td>-0.460372</td>\n",
       "      <td>-0.477210</td>\n",
       "      <td>-0.727052</td>\n",
       "      <td>0.727052</td>\n",
       "    </tr>\n",
       "    <tr>\n",
       "      <th>4</th>\n",
       "      <td>-0.364971</td>\n",
       "      <td>-0.460372</td>\n",
       "      <td>-0.477210</td>\n",
       "      <td>1.375418</td>\n",
       "      <td>-1.375418</td>\n",
       "    </tr>\n",
       "  </tbody>\n",
       "</table>\n",
       "</div>"
      ],
      "text/plain": [
       "          0         1         2         3         4\n",
       "0  0.830129 -0.460372 -0.477210 -0.727052  0.727052\n",
       "1  0.830129  2.985323  1.956196  1.375418 -1.375418\n",
       "2  0.830129  0.401052 -0.477210 -0.727052  0.727052\n",
       "3  0.830129 -0.460372 -0.477210 -0.727052  0.727052\n",
       "4 -0.364971 -0.460372 -0.477210  1.375418 -1.375418"
      ]
     },
     "execution_count": 12,
     "metadata": {},
     "output_type": "execute_result"
    }
   ],
   "source": [
    "# scale to normal distribution\n",
    "from sklearn.preprocessing import StandardScaler\n",
    "sc = StandardScaler()\n",
    "X_train = sc.fit_transform(train_X)\n",
    "X_val = sc.fit_transform(val_X)\n",
    "\n",
    "XtrainDf = pd.DataFrame(X_train)\n",
    "XtrainDf.head()"
   ]
  },
  {
   "cell_type": "code",
   "execution_count": 13,
   "metadata": {},
   "outputs": [
    {
     "name": "stderr",
     "output_type": "stream",
     "text": [
      "2023-05-12 19:30:28.911165: I tensorflow/core/platform/cpu_feature_guard.cc:182] This TensorFlow binary is optimized to use available CPU instructions in performance-critical operations.\n",
      "To enable the following instructions: AVX2 FMA, in other operations, rebuild TensorFlow with the appropriate compiler flags.\n",
      "2023-05-12 19:30:30.150717: W tensorflow/compiler/tf2tensorrt/utils/py_utils.cc:38] TF-TRT Warning: Could not find TensorRT\n",
      "2023-05-12 19:30:31.775800: I tensorflow/compiler/xla/stream_executor/cuda/cuda_gpu_executor.cc:982] could not open file to read NUMA node: /sys/bus/pci/devices/0000:01:00.0/numa_node\n",
      "Your kernel may have been built without NUMA support.\n",
      "2023-05-12 19:30:32.236060: I tensorflow/compiler/xla/stream_executor/cuda/cuda_gpu_executor.cc:982] could not open file to read NUMA node: /sys/bus/pci/devices/0000:01:00.0/numa_node\n",
      "Your kernel may have been built without NUMA support.\n",
      "2023-05-12 19:30:32.236130: I tensorflow/compiler/xla/stream_executor/cuda/cuda_gpu_executor.cc:982] could not open file to read NUMA node: /sys/bus/pci/devices/0000:01:00.0/numa_node\n",
      "Your kernel may have been built without NUMA support.\n",
      "2023-05-12 19:30:32.238598: I tensorflow/compiler/xla/stream_executor/cuda/cuda_gpu_executor.cc:982] could not open file to read NUMA node: /sys/bus/pci/devices/0000:01:00.0/numa_node\n",
      "Your kernel may have been built without NUMA support.\n",
      "2023-05-12 19:30:32.238663: I tensorflow/compiler/xla/stream_executor/cuda/cuda_gpu_executor.cc:982] could not open file to read NUMA node: /sys/bus/pci/devices/0000:01:00.0/numa_node\n",
      "Your kernel may have been built without NUMA support.\n",
      "2023-05-12 19:30:32.238702: I tensorflow/compiler/xla/stream_executor/cuda/cuda_gpu_executor.cc:982] could not open file to read NUMA node: /sys/bus/pci/devices/0000:01:00.0/numa_node\n",
      "Your kernel may have been built without NUMA support.\n",
      "2023-05-12 19:30:33.774869: I tensorflow/compiler/xla/stream_executor/cuda/cuda_gpu_executor.cc:982] could not open file to read NUMA node: /sys/bus/pci/devices/0000:01:00.0/numa_node\n",
      "Your kernel may have been built without NUMA support.\n",
      "2023-05-12 19:30:33.774955: I tensorflow/compiler/xla/stream_executor/cuda/cuda_gpu_executor.cc:982] could not open file to read NUMA node: /sys/bus/pci/devices/0000:01:00.0/numa_node\n",
      "Your kernel may have been built without NUMA support.\n",
      "2023-05-12 19:30:33.774966: I tensorflow/core/common_runtime/gpu/gpu_device.cc:1722] Could not identify NUMA node of platform GPU id 0, defaulting to 0.  Your kernel may not have been built with NUMA support.\n",
      "2023-05-12 19:30:33.775016: I tensorflow/compiler/xla/stream_executor/cuda/cuda_gpu_executor.cc:982] could not open file to read NUMA node: /sys/bus/pci/devices/0000:01:00.0/numa_node\n",
      "Your kernel may have been built without NUMA support.\n",
      "2023-05-12 19:30:33.775047: I tensorflow/core/common_runtime/gpu/gpu_device.cc:1635] Created device /job:localhost/replica:0/task:0/device:GPU:0 with 2049 MB memory:  -> device: 0, name: NVIDIA GeForce GTX 1650, pci bus id: 0000:01:00.0, compute capability: 7.5\n"
     ]
    }
   ],
   "source": [
    "from tensorflow import keras\n",
    "from tensorflow.keras import layers \n",
    "\n",
    "num_nodes = 128\n",
    "\n",
    "model = keras.Sequential([\n",
    "    layers.BatchNormalization(input_shape=[5]),\n",
    "    layers.Dense(num_nodes, activation='relu'),\n",
    "    layers.Dropout(0.3),\n",
    "    layers.BatchNormalization(),\n",
    "    layers.Dense(num_nodes, activation='relu'),\n",
    "    layers.Dropout(0.3),\n",
    "    layers.BatchNormalization(),\n",
    "    layers.Dense(1, activation='sigmoid')\n",
    "])"
   ]
  },
  {
   "cell_type": "code",
   "execution_count": 14,
   "metadata": {},
   "outputs": [],
   "source": [
    "model.compile(\n",
    "    optimizer='Adam',\n",
    "    loss='binary_crossentropy',\n",
    "    metrics=['binary_accuracy']\n",
    ")"
   ]
  },
  {
   "cell_type": "code",
   "execution_count": 15,
   "metadata": {},
   "outputs": [
    {
     "name": "stderr",
     "output_type": "stream",
     "text": [
      "2023-05-12 19:30:36.590177: I tensorflow/compiler/xla/service/service.cc:169] XLA service 0x7f3e04029350 initialized for platform CUDA (this does not guarantee that XLA will be used). Devices:\n",
      "2023-05-12 19:30:36.590230: I tensorflow/compiler/xla/service/service.cc:177]   StreamExecutor device (0): NVIDIA GeForce GTX 1650, Compute Capability 7.5\n",
      "2023-05-12 19:30:36.642030: I tensorflow/compiler/mlir/tensorflow/utils/dump_mlir_util.cc:269] disabling MLIR crash reproducer, set env var `MLIR_CRASH_REPRODUCER_DIRECTORY` to enable.\n",
      "2023-05-12 19:30:36.970585: I tensorflow/compiler/xla/stream_executor/cuda/cuda_dnn.cc:424] Loaded cuDNN version 8600\n",
      "2023-05-12 19:30:37.471897: I ./tensorflow/compiler/jit/device_compiler.h:180] Compiled cluster using XLA!  This line is logged at most once for the lifetime of the process.\n"
     ]
    }
   ],
   "source": [
    "early_stopping = keras.callbacks.EarlyStopping(\n",
    "    patience=10,\n",
    "    min_delta=0.001,\n",
    "    restore_best_weights=True,\n",
    ")\n",
    "\n",
    "history = model.fit(\n",
    "    X_train, train_y,\n",
    "    validation_data=(X_val, val_y),\n",
    "    batch_size=512, # try differnt batch size\n",
    "    epochs=1000,\n",
    "    callbacks=[early_stopping],\n",
    "    verbose=0,\n",
    "    \n",
    ")"
   ]
  },
  {
   "cell_type": "code",
   "execution_count": 16,
   "metadata": {},
   "outputs": [
    {
     "name": "stdout",
     "output_type": "stream",
     "text": [
      "Best validation loss: 0.5313\n",
      "Best Validation Accuracy:0.8027\n"
     ]
    },
    {
     "data": {
      "image/png": "[encoded data removed]",
      "text/plain": [
       "<Figure size 640x480 with 1 Axes>"
      ]
     },
     "metadata": {},
     "output_type": "display_data"
    },
    {
     "data": {
      "image/png": "[encoded data removed]",
      "text/plain": [
       "<Figure size 640x480 with 1 Axes>"
      ]
     },
     "metadata": {},
     "output_type": "display_data"
    }
   ],
   "source": [
    "history_df = pd.DataFrame(history.history)\n",
    "\n",
    "history_df.loc[5:,['loss','val_loss']].plot()\n",
    "history_df.loc[5:,['binary_accuracy', 'val_binary_accuracy']].plot()\n",
    "\n",
    "print((\"Best validation loss: {:0.4f}\" +\\\n",
    "    \"\\nBest Validation Accuracy:{:0.4f}\")\\\n",
    "        .format(history_df['val_loss'].min(),\n",
    "                history_df['val_binary_accuracy'].max()))"
   ]
  },
  {
   "cell_type": "code",
   "execution_count": 17,
   "metadata": {},
   "outputs": [
    {
     "name": "stdout",
     "output_type": "stream",
     "text": [
      "14/14 [==============================] - 0s 3ms/step\n"
     ]
    },
    {
     "data": {
      "text/html": [
       "<div>\n",
       "<style scoped>\n",
       "    .dataframe tbody tr th:only-of-type {\n",
       "        vertical-align: middle;\n",
       "    }\n",
       "\n",
       "    .dataframe tbody tr th {\n",
       "        vertical-align: top;\n",
       "    }\n",
       "\n",
       "    .dataframe thead th {\n",
       "        text-align: right;\n",
       "    }\n",
       "</style>\n",
       "<table border=\"1\" class=\"dataframe\">\n",
       "  <thead>\n",
       "    <tr style=\"text-align: right;\">\n",
       "      <th></th>\n",
       "      <th>PassengerId</th>\n",
       "      <th>Survived</th>\n",
       "    </tr>\n",
       "  </thead>\n",
       "  <tbody>\n",
       "    <tr>\n",
       "      <th>0</th>\n",
       "      <td>892</td>\n",
       "      <td>0</td>\n",
       "    </tr>\n",
       "    <tr>\n",
       "      <th>1</th>\n",
       "      <td>893</td>\n",
       "      <td>1</td>\n",
       "    </tr>\n",
       "    <tr>\n",
       "      <th>2</th>\n",
       "      <td>894</td>\n",
       "      <td>0</td>\n",
       "    </tr>\n",
       "    <tr>\n",
       "      <th>3</th>\n",
       "      <td>895</td>\n",
       "      <td>0</td>\n",
       "    </tr>\n",
       "    <tr>\n",
       "      <th>4</th>\n",
       "      <td>896</td>\n",
       "      <td>1</td>\n",
       "    </tr>\n",
       "  </tbody>\n",
       "</table>\n",
       "</div>"
      ],
      "text/plain": [
       "   PassengerId  Survived\n",
       "0          892         0\n",
       "1          893         1\n",
       "2          894         0\n",
       "3          895         0\n",
       "4          896         1"
      ]
     },
     "execution_count": 17,
     "metadata": {},
     "output_type": "execute_result"
    }
   ],
   "source": [
    "# preprocess test X_test\n",
    "Xtest = np.asarray(X_test).astype(np.float32)\n",
    "Xtest = sc.fit_transform(Xtest)\n",
    "tfPrediction = model.predict(Xtest)\n",
    "\n",
    "output = pd.DataFrame({'PassengerId':test_data.PassengerId, \"Survived\":predictions})\n",
    "output.head()"
   ]
  },
  {
   "cell_type": "code",
   "execution_count": 18,
   "metadata": {},
   "outputs": [],
   "source": [
    "# put this submission in own folder\n",
    "output.to_csv('submissions/tf/submission.csv', index=False)"
   ]
  },
  {
   "attachments": {},
   "cell_type": "markdown",
   "metadata": {},
   "source": [
    "# Pytorch"
   ]
  },
  {
   "cell_type": "code",
   "execution_count": 12,
   "metadata": {},
   "outputs": [
    {
     "name": "stdout",
     "output_type": "stream",
     "text": [
      "Collecting tensorboard\n",
      "  Downloading tensorboard-2.13.0-py3-none-any.whl (5.6 MB)\n",
      "\u001b[2K     \u001b[90m━━━━━━━━━━━━━━━━━━━━━━━━━━━━━━━━━━━━━━━━\u001b[0m \u001b[32m5.6/5.6 MB\u001b[0m \u001b[31m9.1 MB/s\u001b[0m eta \u001b[36m0:00:00\u001b[0m00:01\u001b[0m00:01\u001b[0m\n",
      "\u001b[?25hCollecting absl-py>=0.4\n",
      "  Using cached absl_py-1.4.0-py3-none-any.whl (126 kB)\n",
      "Collecting werkzeug>=1.0.1\n",
      "  Using cached Werkzeug-2.3.4-py3-none-any.whl (242 kB)\n",
      "Requirement already satisfied: google-auth<3,>=1.6.3 in /home/nobu/miniconda3/envs/pytorch/lib/python3.9/site-packages (from tensorboard) (2.6.0)\n",
      "Collecting grpcio>=1.48.2\n",
      "  Using cached grpcio-1.54.0-cp39-cp39-manylinux_2_17_x86_64.manylinux2014_x86_64.whl (5.1 MB)\n",
      "Collecting tensorboard-data-server<0.8.0,>=0.7.0\n",
      "  Using cached tensorboard_data_server-0.7.0-py3-none-manylinux2014_x86_64.whl (6.6 MB)\n",
      "Requirement already satisfied: wheel>=0.26 in /home/nobu/miniconda3/envs/pytorch/lib/python3.9/site-packages (from tensorboard) (0.38.4)\n",
      "Collecting google-auth-oauthlib<1.1,>=0.5\n",
      "  Using cached google_auth_oauthlib-1.0.0-py2.py3-none-any.whl (18 kB)\n",
      "Collecting markdown>=2.6.8\n",
      "  Using cached Markdown-3.4.3-py3-none-any.whl (93 kB)\n",
      "Requirement already satisfied: setuptools>=41.0.0 in /home/nobu/miniconda3/envs/pytorch/lib/python3.9/site-packages (from tensorboard) (66.0.0)\n",
      "Requirement already satisfied: requests<3,>=2.21.0 in /home/nobu/miniconda3/envs/pytorch/lib/python3.9/site-packages (from tensorboard) (2.29.0)\n",
      "Requirement already satisfied: protobuf>=3.19.6 in /home/nobu/miniconda3/envs/pytorch/lib/python3.9/site-packages (from tensorboard) (4.23.0)\n",
      "Requirement already satisfied: numpy>=1.12.0 in /home/nobu/miniconda3/envs/pytorch/lib/python3.9/site-packages (from tensorboard) (1.24.3)\n",
      "Requirement already satisfied: six>=1.9.0 in /home/nobu/miniconda3/envs/pytorch/lib/python3.9/site-packages (from google-auth<3,>=1.6.3->tensorboard) (1.16.0)\n",
      "Requirement already satisfied: cachetools<6.0,>=2.0.0 in /home/nobu/miniconda3/envs/pytorch/lib/python3.9/site-packages (from google-auth<3,>=1.6.3->tensorboard) (4.2.2)\n",
      "Requirement already satisfied: rsa<5,>=3.1.4 in /home/nobu/miniconda3/envs/pytorch/lib/python3.9/site-packages (from google-auth<3,>=1.6.3->tensorboard) (4.7.2)\n",
      "Requirement already satisfied: pyasn1-modules>=0.2.1 in /home/nobu/miniconda3/envs/pytorch/lib/python3.9/site-packages (from google-auth<3,>=1.6.3->tensorboard) (0.3.0)\n",
      "Collecting google-auth<3,>=1.6.3\n",
      "  Downloading google_auth-2.18.0-py2.py3-none-any.whl (178 kB)\n",
      "\u001b[2K     \u001b[90m━━━━━━━━━━━━━━━━━━━━━━━━━━━━━━━━━━━━━━━\u001b[0m \u001b[32m178.9/178.9 kB\u001b[0m \u001b[31m5.5 MB/s\u001b[0m eta \u001b[36m0:00:00\u001b[0m\n",
      "\u001b[?25hCollecting requests-oauthlib>=0.7.0\n",
      "  Using cached requests_oauthlib-1.3.1-py2.py3-none-any.whl (23 kB)\n",
      "Requirement already satisfied: urllib3<2.0 in /home/nobu/miniconda3/envs/pytorch/lib/python3.9/site-packages (from google-auth<3,>=1.6.3->tensorboard) (1.26.15)\n",
      "Requirement already satisfied: importlib-metadata>=4.4 in /home/nobu/miniconda3/envs/pytorch/lib/python3.9/site-packages (from markdown>=2.6.8->tensorboard) (6.0.0)\n",
      "Requirement already satisfied: idna<4,>=2.5 in /home/nobu/miniconda3/envs/pytorch/lib/python3.9/site-packages (from requests<3,>=2.21.0->tensorboard) (3.4)\n",
      "Requirement already satisfied: certifi>=2017.4.17 in /home/nobu/miniconda3/envs/pytorch/lib/python3.9/site-packages (from requests<3,>=2.21.0->tensorboard) (2022.12.7)\n",
      "Requirement already satisfied: charset-normalizer<4,>=2 in /home/nobu/miniconda3/envs/pytorch/lib/python3.9/site-packages (from requests<3,>=2.21.0->tensorboard) (2.1.1)\n",
      "Requirement already satisfied: MarkupSafe>=2.1.1 in /home/nobu/miniconda3/envs/pytorch/lib/python3.9/site-packages (from werkzeug>=1.0.1->tensorboard) (2.1.1)\n",
      "Requirement already satisfied: zipp>=0.5 in /home/nobu/miniconda3/envs/pytorch/lib/python3.9/site-packages (from importlib-metadata>=4.4->markdown>=2.6.8->tensorboard) (3.11.0)\n",
      "Requirement already satisfied: pyasn1<0.6.0,>=0.4.6 in /home/nobu/miniconda3/envs/pytorch/lib/python3.9/site-packages (from pyasn1-modules>=0.2.1->google-auth<3,>=1.6.3->tensorboard) (0.5.0)\n",
      "Collecting oauthlib>=3.0.0\n",
      "  Using cached oauthlib-3.2.2-py3-none-any.whl (151 kB)\n",
      "\u001b[33mWARNING: Error parsing requirements for fastjsonschema: [Errno 2] No such file or directory: '/home/nobu/miniconda3/envs/pytorch/lib/python3.9/site-packages/fastjsonschema-2.16.3.dist-info/METADATA'\u001b[0m\u001b[33m\n",
      "\u001b[0mInstalling collected packages: werkzeug, tensorboard-data-server, oauthlib, grpcio, absl-py, requests-oauthlib, markdown, google-auth, google-auth-oauthlib, tensorboard\n",
      "  Attempting uninstall: google-auth\n",
      "    Found existing installation: google-auth 2.6.0\n",
      "    Uninstalling google-auth-2.6.0:\n",
      "      Successfully uninstalled google-auth-2.6.0\n",
      "Successfully installed absl-py-1.4.0 google-auth-2.18.0 google-auth-oauthlib-1.0.0 grpcio-1.54.0 markdown-3.4.3 oauthlib-3.2.2 requests-oauthlib-1.3.1 tensorboard-2.13.0 tensorboard-data-server-0.7.0 werkzeug-2.3.4\n"
     ]
    }
   ],
   "source": [
    "! pip install tensorboard"
   ]
  },
  {
   "cell_type": "code",
   "execution_count": 19,
   "metadata": {},
   "outputs": [
    {
     "name": "stdout",
     "output_type": "stream",
     "text": [
      "Collecting scikit-learn\n",
      "  Using cached scikit_learn-1.2.2-cp39-cp39-manylinux_2_17_x86_64.manylinux2014_x86_64.whl (9.6 MB)\n",
      "Collecting threadpoolctl>=2.0.0\n",
      "  Using cached threadpoolctl-3.1.0-py3-none-any.whl (14 kB)\n",
      "Collecting joblib>=1.1.1\n",
      "  Using cached joblib-1.2.0-py3-none-any.whl (297 kB)\n",
      "Requirement already satisfied: numpy>=1.17.3 in /home/nobu/miniconda3/envs/pytorch/lib/python3.9/site-packages (from scikit-learn) (1.24.3)\n",
      "Collecting scipy>=1.3.2\n",
      "  Using cached scipy-1.10.1-cp39-cp39-manylinux_2_17_x86_64.manylinux2014_x86_64.whl (34.5 MB)\n",
      "\u001b[33mWARNING: Error parsing requirements for fastjsonschema: [Errno 2] No such file or directory: '/home/nobu/miniconda3/envs/pytorch/lib/python3.9/site-packages/fastjsonschema-2.16.3.dist-info/METADATA'\u001b[0m\u001b[33m\n",
      "\u001b[0mInstalling collected packages: threadpoolctl, scipy, joblib, scikit-learn\n",
      "Successfully installed joblib-1.2.0 scikit-learn-1.2.2 scipy-1.10.1 threadpoolctl-3.1.0\n"
     ]
    }
   ],
   "source": [
    "! pip install scikit-learn"
   ]
  },
  {
   "cell_type": "code",
   "execution_count": 21,
   "metadata": {},
   "outputs": [],
   "source": [
    "from sklearn.model_selection import train_test_split\n",
    "from sklearn.preprocessing import StandardScaler\n",
    "\n",
    "train_data = pd.read_csv(\"data/train.csv\")\n",
    "\n",
    "test_data = pd.read_csv(\"data/test.csv\")\n",
    "\n",
    "y = train_data[\"Survived\"]\n",
    "\n",
    "features = [\"Pclass\", \"Sex\", \"SibSp\", \"Parch\"]\n",
    "\n",
    "X = pd.get_dummies(train_data[features])\n",
    "X_test = pd.get_dummies(test_data[features])\n",
    "\n",
    "train_X, val_X, train_y, val_y = train_test_split(X, y, random_state=0)\n",
    "\n",
    "train_X = np.asarray(train_X).astype(np.float32)\n",
    "val_X = np.asarray(val_X).astype(np.float32)\n",
    "train_y = np.asarray(train_y).astype(np.float32)\n",
    "val_y = np.asarray(val_y).astype(np.float32)\n",
    "\n",
    "sc = StandardScaler()\n",
    "X_train = sc.fit_transform(train_X)\n",
    "X_val = sc.fit_transform(val_X)\n",
    "\n",
    "X_test = np.asarray(X_test).astype(np.float32)\n",
    "X_test = sc.fit_transform(X_test)"
   ]
  },
  {
   "cell_type": "code",
   "execution_count": 33,
   "metadata": {},
   "outputs": [],
   "source": [
    "import os\n",
    "import torch\n",
    "from torch import nn\n",
    "from torch.utils.data import DataLoader\n",
    "import torchvision\n",
    "import torchvision.transforms as transforms\n",
    "from torch.utils.tensorboard import SummaryWriter\n",
    "from datetime import datetime\n"
   ]
  },
  {
   "cell_type": "code",
   "execution_count": 77,
   "metadata": {},
   "outputs": [
    {
     "name": "stdout",
     "output_type": "stream",
     "text": [
      "Using cuda device\n"
     ]
    }
   ],
   "source": [
    "device = (\n",
    "    \"cuda\"\n",
    "    if torch.cuda.is_available()\n",
    "    else \"mps\"\n",
    "    if torch.backends.mps.is_available()\n",
    "    else \"cpu\"\n",
    ")\n",
    "print(f\"Using {device} device\")"
   ]
  },
  {
   "cell_type": "code",
   "execution_count": 86,
   "metadata": {},
   "outputs": [
    {
     "name": "stdout",
     "output_type": "stream",
     "text": [
      "torch.Size([668, 5]) tensor([[ 0.8301, -0.4604, -0.4772, -0.7271,  0.7271],\n",
      "        [ 0.8301,  2.9853,  1.9562,  1.3754, -1.3754],\n",
      "        [ 0.8301,  0.4011, -0.4772, -0.7271,  0.7271],\n",
      "        ...,\n",
      "        [ 0.8301, -0.4604, -0.4772, -0.7271,  0.7271],\n",
      "        [ 0.8301,  0.4011, -0.4772,  1.3754, -1.3754],\n",
      "        [-0.3650,  0.4011,  0.7395, -0.7271,  0.7271]], device='cuda:0')\n",
      "668 [(tensor([ 0.8301, -0.4604, -0.4772, -0.7271,  0.7271]), tensor(0.)), (tensor([ 0.8301,  2.9853,  1.9562,  1.3754, -1.3754]), tensor(1.)), (tensor([ 0.8301,  0.4011, -0.4772, -0.7271,  0.7271]), tensor(0.)), (tensor([ 0.8301, -0.4604, -0.4772, -0.7271,  0.7271]), tensor(0.)), (tensor([-0.3650, -0.4604, -0.4772,  1.3754, -1.3754]), tensor(1.)), (tensor([ 0.8301, -0.4604, -0.4772, -0.7271,  0.7271]), tensor(1.)), (tensor([ 0.8301,  0.4011,  0.7395, -0.7271,  0.7271]), tensor(0.)), (tensor([ 0.8301, -0.4604, -0.4772, -0.7271,  0.7271]), tensor(0.)), (tensor([-0.3650,  0.4011,  1.9562,  1.3754, -1.3754]), tensor(1.)), (tensor([ 0.8301, -0.4604, -0.4772,  1.3754, -1.3754]), tensor(1.)), (tensor([ 0.8301, -0.4604, -0.4772,  1.3754, -1.3754]), tensor(0.)), (tensor([-1.5601, -0.4604, -0.4772, -0.7271,  0.7271]), tensor(0.)), (tensor([ 0.8301,  0.4011, -0.4772, -0.7271,  0.7271]), tensor(0.)), (tensor([-1.5601, -0.4604, -0.4772,  1.3754, -1.3754]), tensor(1.)), (tensor([-0.3650, -0.4604,  0.7395,  1.3754, -1.3754]), tensor(1.)), (tensor([-0.3650, -0.4604,  0.7395,  1.3754, -1.3754]), tensor(1.)), (tensor([ 0.8301, -0.4604, -0.4772, -0.7271,  0.7271]), tensor(0.)), (tensor([ 0.8301, -0.4604, -0.4772, -0.7271,  0.7271]), tensor(0.)), (tensor([-1.5601,  0.4011,  0.7395,  1.3754, -1.3754]), tensor(1.)), (tensor([ 0.8301, -0.4604, -0.4772, -0.7271,  0.7271]), tensor(0.)), (tensor([-0.3650, -0.4604, -0.4772, -0.7271,  0.7271]), tensor(0.)), (tensor([-1.5601, -0.4604,  1.9562,  1.3754, -1.3754]), tensor(1.)), (tensor([ 0.8301,  0.4011,  0.7395, -0.7271,  0.7271]), tensor(1.)), (tensor([ 0.8301, -0.4604, -0.4772,  1.3754, -1.3754]), tensor(0.)), (tensor([ 0.8301, -0.4604, -0.4772, -0.7271,  0.7271]), tensor(0.)), (tensor([ 0.8301, -0.4604, -0.4772, -0.7271,  0.7271]), tensor(0.)), (tensor([ 0.8301, -0.4604,  0.7395,  1.3754, -1.3754]), tensor(1.)), (tensor([ 0.8301, -0.4604, -0.4772, -0.7271,  0.7271]), tensor(0.)), (tensor([ 0.8301,  1.2625, -0.4772, -0.7271,  0.7271]), tensor(0.)), (tensor([-1.5601,  0.4011,  0.7395, -0.7271,  0.7271]), tensor(0.)), (tensor([-0.3650, -0.4604, -0.4772, -0.7271,  0.7271]), tensor(0.)), (tensor([ 0.8301,  3.8467,  1.9562,  1.3754, -1.3754]), tensor(0.)), (tensor([ 0.8301,  0.4011, -0.4772,  1.3754, -1.3754]), tensor(0.)), (tensor([ 0.8301, -0.4604, -0.4772,  1.3754, -1.3754]), tensor(1.)), (tensor([ 0.8301, -0.4604, -0.4772, -0.7271,  0.7271]), tensor(1.)), (tensor([ 0.8301,  2.9853,  1.9562, -0.7271,  0.7271]), tensor(1.)), (tensor([ 0.8301, -0.4604, -0.4772, -0.7271,  0.7271]), tensor(0.)), (tensor([ 0.8301, -0.4604, -0.4772, -0.7271,  0.7271]), tensor(0.)), (tensor([ 0.8301,  1.2625, -0.4772, -0.7271,  0.7271]), tensor(0.)), (tensor([ 0.8301, -0.4604, -0.4772, -0.7271,  0.7271]), tensor(0.)), (tensor([-1.5601, -0.4604, -0.4772, -0.7271,  0.7271]), tensor(0.)), (tensor([ 0.8301, -0.4604, -0.4772, -0.7271,  0.7271]), tensor(0.)), (tensor([ 0.8301,  0.4011, -0.4772, -0.7271,  0.7271]), tensor(0.)), (tensor([ 0.8301, -0.4604, -0.4772,  1.3754, -1.3754]), tensor(1.)), (tensor([-1.5601, -0.4604, -0.4772, -0.7271,  0.7271]), tensor(0.)), (tensor([-1.5601, -0.4604, -0.4772, -0.7271,  0.7271]), tensor(1.)), (tensor([-1.5601,  0.4011, -0.4772,  1.3754, -1.3754]), tensor(1.)), (tensor([ 0.8301,  3.8467,  1.9562, -0.7271,  0.7271]), tensor(0.)), (tensor([-1.5601, -0.4604,  0.7395, -0.7271,  0.7271]), tensor(0.)), (tensor([ 0.8301,  0.4011, -0.4772,  1.3754, -1.3754]), tensor(0.)), (tensor([-0.3650,  0.4011,  0.7395, -0.7271,  0.7271]), tensor(1.)), (tensor([-1.5601, -0.4604,  0.7395, -0.7271,  0.7271]), tensor(0.)), (tensor([ 0.8301, -0.4604, -0.4772, -0.7271,  0.7271]), tensor(0.)), (tensor([ 0.8301, -0.4604, -0.4772, -0.7271,  0.7271]), tensor(0.)), (tensor([ 0.8301, -0.4604, -0.4772, -0.7271,  0.7271]), tensor(1.)), (tensor([ 0.8301, -0.4604, -0.4772,  1.3754, -1.3754]), tensor(1.)), (tensor([ 0.8301, -0.4604, -0.4772,  1.3754, -1.3754]), tensor(0.)), (tensor([ 0.8301, -0.4604, -0.4772, -0.7271,  0.7271]), tensor(0.)), (tensor([ 0.8301,  0.4011, -0.4772,  1.3754, -1.3754]), tensor(1.)), (tensor([-1.5601, -0.4604, -0.4772, -0.7271,  0.7271]), tensor(0.)), (tensor([-1.5601, -0.4604, -0.4772,  1.3754, -1.3754]), tensor(1.)), (tensor([ 0.8301, -0.4604, -0.4772, -0.7271,  0.7271]), tensor(0.)), (tensor([ 0.8301, -0.4604, -0.4772, -0.7271,  0.7271]), tensor(0.)), (tensor([ 0.8301,  0.4011,  0.7395, -0.7271,  0.7271]), tensor(0.)), (tensor([ 0.8301,  2.1239,  0.7395,  1.3754, -1.3754]), tensor(0.)), (tensor([-0.3650, -0.4604, -0.4772, -0.7271,  0.7271]), tensor(0.)), (tensor([-1.5601, -0.4604, -0.4772, -0.7271,  0.7271]), tensor(0.)), (tensor([-0.3650, -0.4604, -0.4772, -0.7271,  0.7271]), tensor(1.)), (tensor([-0.3650,  0.4011, -0.4772, -0.7271,  0.7271]), tensor(0.)), (tensor([ 0.8301, -0.4604,  1.9562,  1.3754, -1.3754]), tensor(1.)), (tensor([-0.3650,  0.4011,  0.7395,  1.3754, -1.3754]), tensor(1.)), (tensor([-0.3650, -0.4604, -0.4772,  1.3754, -1.3754]), tensor(1.)), (tensor([-0.3650, -0.4604, -0.4772, -0.7271,  0.7271]), tensor(0.)), (tensor([-0.3650, -0.4604, -0.4772, -0.7271,  0.7271]), tensor(0.)), (tensor([-1.5601, -0.4604, -0.4772, -0.7271,  0.7271]), tensor(0.)), (tensor([-1.5601, -0.4604, -0.4772, -0.7271,  0.7271]), tensor(1.)), (tensor([-0.3650, -0.4604, -0.4772, -0.7271,  0.7271]), tensor(0.)), (tensor([-1.5601,  0.4011, -0.4772,  1.3754, -1.3754]), tensor(1.)), (tensor([ 0.8301, -0.4604, -0.4772, -0.7271,  0.7271]), tensor(0.)), (tensor([ 0.8301,  0.4011, -0.4772, -0.7271,  0.7271]), tensor(0.)), (tensor([-0.3650, -0.4604,  1.9562, -0.7271,  0.7271]), tensor(1.)), (tensor([-1.5601, -0.4604, -0.4772, -0.7271,  0.7271]), tensor(1.)), (tensor([ 0.8301, -0.4604, -0.4772,  1.3754, -1.3754]), tensor(1.)), (tensor([-1.5601, -0.4604, -0.4772, -0.7271,  0.7271]), tensor(0.)), (tensor([ 0.8301,  2.9853,  1.9562,  1.3754, -1.3754]), tensor(0.)), (tensor([-0.3650, -0.4604, -0.4772,  1.3754, -1.3754]), tensor(1.)), (tensor([ 0.8301, -0.4604, -0.4772, -0.7271,  0.7271]), tensor(0.)), (tensor([-0.3650, -0.4604, -0.4772, -0.7271,  0.7271]), tensor(1.)), (tensor([ 0.8301, -0.4604,  5.6063,  1.3754, -1.3754]), tensor(0.)), (tensor([ 0.8301,  0.4011,  0.7395,  1.3754, -1.3754]), tensor(0.)), (tensor([ 0.8301, -0.4604, -0.4772, -0.7271,  0.7271]), tensor(0.)), (tensor([ 0.8301, -0.4604, -0.4772, -0.7271,  0.7271]), tensor(0.)), (tensor([-1.5601, -0.4604, -0.4772, -0.7271,  0.7271]), tensor(1.)), (tensor([-1.5601,  0.4011, -0.4772, -0.7271,  0.7271]), tensor(0.)), (tensor([ 0.8301, -0.4604, -0.4772, -0.7271,  0.7271]), tensor(1.)), (tensor([ 0.8301,  6.4310,  1.9562, -0.7271,  0.7271]), tensor(0.)), (tensor([ 0.8301, -0.4604, -0.4772, -0.7271,  0.7271]), tensor(1.)), (tensor([ 0.8301, -0.4604, -0.4772, -0.7271,  0.7271]), tensor(0.)), (tensor([ 0.8301,  0.4011, -0.4772,  1.3754, -1.3754]), tensor(1.)), (tensor([-1.5601, -0.4604, -0.4772,  1.3754, -1.3754]), tensor(1.)), (tensor([-0.3650, -0.4604, -0.4772,  1.3754, -1.3754]), tensor(1.)), (tensor([-1.5601,  0.4011, -0.4772, -0.7271,  0.7271]), tensor(0.)), (tensor([ 0.8301,  0.4011, -0.4772, -0.7271,  0.7271]), tensor(0.)), (tensor([-1.5601,  0.4011, -0.4772, -0.7271,  0.7271]), tensor(0.)), (tensor([ 0.8301, -0.4604, -0.4772, -0.7271,  0.7271]), tensor(0.)), (tensor([ 0.8301, -0.4604, -0.4772, -0.7271,  0.7271]), tensor(0.)), (tensor([ 0.8301, -0.4604, -0.4772, -0.7271,  0.7271]), tensor(0.)), (tensor([-0.3650, -0.4604, -0.4772,  1.3754, -1.3754]), tensor(1.)), (tensor([ 0.8301, -0.4604, -0.4772, -0.7271,  0.7271]), tensor(0.)), (tensor([ 0.8301, -0.4604,  1.9562, -0.7271,  0.7271]), tensor(1.)), (tensor([-0.3650, -0.4604, -0.4772, -0.7271,  0.7271]), tensor(0.)), (tensor([ 0.8301,  0.4011,  0.7395, -0.7271,  0.7271]), tensor(0.)), (tensor([ 0.8301, -0.4604, -0.4772, -0.7271,  0.7271]), tensor(0.)), (tensor([ 0.8301, -0.4604, -0.4772, -0.7271,  0.7271]), tensor(1.)), (tensor([-1.5601, -0.4604, -0.4772, -0.7271,  0.7271]), tensor(0.)), (tensor([-1.5601,  0.4011, -0.4772,  1.3754, -1.3754]), tensor(1.)), (tensor([ 0.8301, -0.4604, -0.4772, -0.7271,  0.7271]), tensor(0.)), (tensor([ 0.8301, -0.4604, -0.4772, -0.7271,  0.7271]), tensor(0.)), (tensor([-1.5601, -0.4604,  0.7395, -0.7271,  0.7271]), tensor(0.)), (tensor([ 0.8301, -0.4604, -0.4772, -0.7271,  0.7271]), tensor(1.)), (tensor([-0.3650, -0.4604, -0.4772, -0.7271,  0.7271]), tensor(0.)), (tensor([-1.5601,  0.4011, -0.4772, -0.7271,  0.7271]), tensor(1.)), (tensor([-1.5601,  0.4011, -0.4772, -0.7271,  0.7271]), tensor(1.)), (tensor([-0.3650, -0.4604, -0.4772,  1.3754, -1.3754]), tensor(1.)), (tensor([-0.3650, -0.4604, -0.4772, -0.7271,  0.7271]), tensor(0.)), (tensor([ 0.8301, -0.4604, -0.4772, -0.7271,  0.7271]), tensor(0.)), (tensor([-1.5601, -0.4604, -0.4772, -0.7271,  0.7271]), tensor(0.)), (tensor([-1.5601, -0.4604,  0.7395,  1.3754, -1.3754]), tensor(1.)), (tensor([-0.3650, -0.4604, -0.4772,  1.3754, -1.3754]), tensor(1.)), (tensor([ 0.8301, -0.4604, -0.4772, -0.7271,  0.7271]), tensor(0.)), (tensor([ 0.8301, -0.4604, -0.4772, -0.7271,  0.7271]), tensor(0.)), (tensor([-0.3650,  0.4011, -0.4772,  1.3754, -1.3754]), tensor(1.)), (tensor([ 0.8301, -0.4604, -0.4772, -0.7271,  0.7271]), tensor(0.)), (tensor([-0.3650,  1.2625,  0.7395,  1.3754, -1.3754]), tensor(1.)), (tensor([ 0.8301, -0.4604, -0.4772,  1.3754, -1.3754]), tensor(0.)), (tensor([-0.3650, -0.4604, -0.4772, -0.7271,  0.7271]), tensor(0.)), (tensor([ 0.8301,  0.4011,  6.8230,  1.3754, -1.3754]), tensor(0.)), (tensor([ 0.8301,  2.1239,  0.7395,  1.3754, -1.3754]), tensor(0.)), (tensor([-1.5601,  0.4011, -0.4772,  1.3754, -1.3754]), tensor(1.)), (tensor([-1.5601,  0.4011,  0.7395,  1.3754, -1.3754]), tensor(1.)), (tensor([-1.5601,  0.4011, -0.4772,  1.3754, -1.3754]), tensor(1.)), (tensor([ 0.8301, -0.4604, -0.4772,  1.3754, -1.3754]), tensor(0.)), (tensor([-1.5601, -0.4604, -0.4772,  1.3754, -1.3754]), tensor(1.)), (tensor([ 0.8301, -0.4604, -0.4772,  1.3754, -1.3754]), tensor(0.)), (tensor([ 0.8301, -0.4604, -0.4772, -0.7271,  0.7271]), tensor(1.)), (tensor([ 0.8301, -0.4604, -0.4772, -0.7271,  0.7271]), tensor(0.)), (tensor([-1.5601, -0.4604, -0.4772,  1.3754, -1.3754]), tensor(1.)), (tensor([ 0.8301, -0.4604, -0.4772, -0.7271,  0.7271]), tensor(0.)), (tensor([ 0.8301,  2.9853,  0.7395, -0.7271,  0.7271]), tensor(0.)), (tensor([-0.3650, -0.4604, -0.4772,  1.3754, -1.3754]), tensor(1.)), (tensor([-1.5601,  1.2625, -0.4772, -0.7271,  0.7271]), tensor(0.)), (tensor([ 0.8301,  2.1239,  0.7395,  1.3754, -1.3754]), tensor(0.)), (tensor([-1.5601, -0.4604, -0.4772, -0.7271,  0.7271]), tensor(0.)), (tensor([-1.5601, -0.4604, -0.4772, -0.7271,  0.7271]), tensor(0.)), (tensor([ 0.8301, -0.4604, -0.4772, -0.7271,  0.7271]), tensor(0.)), (tensor([ 0.8301, -0.4604,  0.7395,  1.3754, -1.3754]), tensor(1.)), (tensor([ 0.8301,  1.2625, -0.4772, -0.7271,  0.7271]), tensor(0.)), (tensor([-0.3650, -0.4604, -0.4772,  1.3754, -1.3754]), tensor(1.)), (tensor([ 0.8301, -0.4604, -0.4772, -0.7271,  0.7271]), tensor(0.)), (tensor([ 0.8301, -0.4604, -0.4772,  1.3754, -1.3754]), tensor(1.)), (tensor([ 0.8301, -0.4604, -0.4772, -0.7271,  0.7271]), tensor(0.)), (tensor([ 0.8301, -0.4604, -0.4772, -0.7271,  0.7271]), tensor(0.)), (tensor([ 0.8301, -0.4604, -0.4772, -0.7271,  0.7271]), tensor(0.)), (tensor([ 0.8301, -0.4604, -0.4772, -0.7271,  0.7271]), tensor(0.)), (tensor([ 0.8301, -0.4604, -0.4772, -0.7271,  0.7271]), tensor(0.)), (tensor([ 0.8301, -0.4604, -0.4772,  1.3754, -1.3754]), tensor(1.)), (tensor([ 0.8301,  2.1239,  0.7395,  1.3754, -1.3754]), tensor(0.)), (tensor([ 0.8301, -0.4604, -0.4772, -0.7271,  0.7271]), tensor(0.)), (tensor([-1.5601, -0.4604, -0.4772,  1.3754, -1.3754]), tensor(1.)), (tensor([ 0.8301,  0.4011,  0.7395,  1.3754, -1.3754]), tensor(0.)), (tensor([ 0.8301, -0.4604, -0.4772, -0.7271,  0.7271]), tensor(0.)), (tensor([ 0.8301, -0.4604, -0.4772, -0.7271,  0.7271]), tensor(0.)), (tensor([-1.5601, -0.4604, -0.4772, -0.7271,  0.7271]), tensor(1.)), (tensor([ 0.8301, -0.4604,  0.7395,  1.3754, -1.3754]), tensor(0.)), (tensor([-0.3650,  1.2625,  0.7395, -0.7271,  0.7271]), tensor(0.)), (tensor([-0.3650, -0.4604, -0.4772,  1.3754, -1.3754]), tensor(1.)), (tensor([-0.3650,  0.4011, -0.4772, -0.7271,  0.7271]), tensor(0.)), (tensor([ 0.8301, -0.4604, -0.4772, -0.7271,  0.7271]), tensor(0.)), (tensor([-1.5601,  0.4011, -0.4772,  1.3754, -1.3754]), tensor(1.)), (tensor([-1.5601, -0.4604, -0.4772, -0.7271,  0.7271]), tensor(0.)), (tensor([-1.5601, -0.4604, -0.4772,  1.3754, -1.3754]), tensor(1.)), (tensor([ 0.8301, -0.4604, -0.4772, -0.7271,  0.7271]), tensor(0.)), (tensor([ 0.8301,  1.2625,  1.9562,  1.3754, -1.3754]), tensor(0.)), (tensor([-1.5601, -0.4604, -0.4772, -0.7271,  0.7271]), tensor(0.)), (tensor([ 0.8301,  0.4011, -0.4772,  1.3754, -1.3754]), tensor(0.)), (tensor([ 0.8301,  2.9853,  1.9562,  1.3754, -1.3754]), tensor(1.)), (tensor([ 0.8301, -0.4604, -0.4772, -0.7271,  0.7271]), tensor(0.)), (tensor([-0.3650, -0.4604, -0.4772, -0.7271,  0.7271]), tensor(0.)), (tensor([ 0.8301, -0.4604, -0.4772, -0.7271,  0.7271]), tensor(0.)), (tensor([ 0.8301, -0.4604, -0.4772,  1.3754, -1.3754]), tensor(1.)), (tensor([ 0.8301, -0.4604, -0.4772, -0.7271,  0.7271]), tensor(0.)), (tensor([ 0.8301, -0.4604, -0.4772, -0.7271,  0.7271]), tensor(0.)), (tensor([-0.3650, -0.4604, -0.4772, -0.7271,  0.7271]), tensor(0.)), (tensor([ 0.8301,  0.4011, -0.4772, -0.7271,  0.7271]), tensor(0.)), (tensor([-1.5601, -0.4604, -0.4772, -0.7271,  0.7271]), tensor(0.)), (tensor([-1.5601, -0.4604, -0.4772, -0.7271,  0.7271]), tensor(0.)), (tensor([-1.5601, -0.4604, -0.4772, -0.7271,  0.7271]), tensor(0.)), (tensor([-1.5601, -0.4604, -0.4772, -0.7271,  0.7271]), tensor(0.)), (tensor([ 0.8301, -0.4604, -0.4772, -0.7271,  0.7271]), tensor(0.)), (tensor([-1.5601, -0.4604, -0.4772, -0.7271,  0.7271]), tensor(1.)), (tensor([ 0.8301, -0.4604, -0.4772, -0.7271,  0.7271]), tensor(1.)), (tensor([ 0.8301, -0.4604, -0.4772, -0.7271,  0.7271]), tensor(0.)), (tensor([ 0.8301,  1.2625, -0.4772,  1.3754, -1.3754]), tensor(0.)), (tensor([ 0.8301, -0.4604, -0.4772, -0.7271,  0.7271]), tensor(0.)), (tensor([-0.3650, -0.4604,  1.9562,  1.3754, -1.3754]), tensor(1.)), (tensor([ 0.8301,  0.4011, -0.4772, -0.7271,  0.7271]), tensor(0.)), (tensor([ 0.8301,  0.4011, -0.4772, -0.7271,  0.7271]), tensor(0.)), (tensor([ 0.8301,  2.9853,  0.7395, -0.7271,  0.7271]), tensor(0.)), (tensor([ 0.8301,  1.2625, -0.4772, -0.7271,  0.7271]), tensor(0.)), (tensor([-1.5601, -0.4604, -0.4772,  1.3754, -1.3754]), tensor(1.)), (tensor([-0.3650,  0.4011, -0.4772,  1.3754, -1.3754]), tensor(1.)), (tensor([-1.5601, -0.4604, -0.4772, -0.7271,  0.7271]), tensor(0.)), (tensor([ 0.8301, -0.4604, -0.4772, -0.7271,  0.7271]), tensor(1.)), (tensor([-0.3650, -0.4604, -0.4772, -0.7271,  0.7271]), tensor(0.)), (tensor([-0.3650,  0.4011, -0.4772,  1.3754, -1.3754]), tensor(1.)), (tensor([-1.5601, -0.4604, -0.4772, -0.7271,  0.7271]), tensor(0.)), (tensor([ 0.8301, -0.4604, -0.4772, -0.7271,  0.7271]), tensor(0.)), (tensor([ 0.8301, -0.4604, -0.4772, -0.7271,  0.7271]), tensor(0.)), (tensor([-0.3650, -0.4604, -0.4772,  1.3754, -1.3754]), tensor(1.)), (tensor([-0.3650, -0.4604,  1.9562, -0.7271,  0.7271]), tensor(1.)), (tensor([-1.5601, -0.4604,  0.7395, -0.7271,  0.7271]), tensor(0.)), (tensor([-1.5601, -0.4604, -0.4772, -0.7271,  0.7271]), tensor(0.)), (tensor([ 0.8301, -0.4604, -0.4772, -0.7271,  0.7271]), tensor(0.)), (tensor([-0.3650, -0.4604, -0.4772, -0.7271,  0.7271]), tensor(0.)), (tensor([-0.3650, -0.4604, -0.4772, -0.7271,  0.7271]), tensor(0.)), (tensor([ 0.8301, -0.4604, -0.4772, -0.7271,  0.7271]), tensor(0.)), (tensor([ 0.8301, -0.4604, -0.4772, -0.7271,  0.7271]), tensor(1.)), (tensor([ 0.8301, -0.4604, -0.4772,  1.3754, -1.3754]), tensor(0.)), (tensor([-0.3650,  0.4011, -0.4772, -0.7271,  0.7271]), tensor(0.)), (tensor([-0.3650,  0.4011, -0.4772,  1.3754, -1.3754]), tensor(1.)), (tensor([ 0.8301,  0.4011, -0.4772, -0.7271,  0.7271]), tensor(1.)), (tensor([-0.3650, -0.4604, -0.4772, -0.7271,  0.7271]), tensor(0.)), (tensor([-0.3650, -0.4604, -0.4772, -0.7271,  0.7271]), tensor(0.)), (tensor([ 0.8301, -0.4604, -0.4772, -0.7271,  0.7271]), tensor(0.)), (tensor([ 0.8301, -0.4604,  0.7395,  1.3754, -1.3754]), tensor(1.)), (tensor([ 0.8301, -0.4604, -0.4772, -0.7271,  0.7271]), tensor(0.)), (tensor([-1.5601,  0.4011,  1.9562,  1.3754, -1.3754]), tensor(1.)), (tensor([ 0.8301, -0.4604, -0.4772, -0.7271,  0.7271]), tensor(0.)), (tensor([ 0.8301,  0.4011, -0.4772, -0.7271,  0.7271]), tensor(0.)), (tensor([-1.5601,  0.4011, -0.4772, -0.7271,  0.7271]), tensor(1.)), (tensor([ 0.8301, -0.4604, -0.4772, -0.7271,  0.7271]), tensor(0.)), (tensor([-0.3650, -0.4604, -0.4772,  1.3754, -1.3754]), tensor(0.)), (tensor([-1.5601,  1.2625, -0.4772,  1.3754, -1.3754]), tensor(1.)), (tensor([-0.3650, -0.4604,  1.9562,  1.3754, -1.3754]), tensor(1.)), (tensor([ 0.8301, -0.4604, -0.4772, -0.7271,  0.7271]), tensor(0.)), (tensor([ 0.8301, -0.4604, -0.4772, -0.7271,  0.7271]), tensor(0.)), (tensor([-1.5601,  0.4011, -0.4772,  1.3754, -1.3754]), tensor(1.)), (tensor([-0.3650,  0.4011,  0.7395,  1.3754, -1.3754]), tensor(1.)), (tensor([-1.5601,  0.4011, -0.4772,  1.3754, -1.3754]), tensor(1.)), (tensor([-0.3650, -0.4604, -0.4772, -0.7271,  0.7271]), tensor(0.)), (tensor([-1.5601, -0.4604, -0.4772,  1.3754, -1.3754]), tensor(1.)), (tensor([ 0.8301, -0.4604, -0.4772, -0.7271,  0.7271]), tensor(0.)), (tensor([-0.3650, -0.4604, -0.4772, -0.7271,  0.7271]), tensor(0.)), (tensor([ 0.8301,  0.4011, -0.4772,  1.3754, -1.3754]), tensor(1.)), (tensor([ 0.8301, -0.4604, -0.4772, -0.7271,  0.7271]), tensor(0.)), (tensor([-1.5601, -0.4604, -0.4772, -0.7271,  0.7271]), tensor(0.)), (tensor([ 0.8301,  0.4011, -0.4772, -0.7271,  0.7271]), tensor(0.)), (tensor([ 0.8301,  0.4011,  0.7395, -0.7271,  0.7271]), tensor(0.)), (tensor([-0.3650, -0.4604, -0.4772, -0.7271,  0.7271]), tensor(0.)), (tensor([-0.3650, -0.4604, -0.4772,  1.3754, -1.3754]), tensor(1.)), (tensor([ 0.8301, -0.4604,  0.7395,  1.3754, -1.3754]), tensor(0.)), (tensor([ 0.8301, -0.4604, -0.4772, -0.7271,  0.7271]), tensor(0.)), (tensor([ 0.8301, -0.4604, -0.4772, -0.7271,  0.7271]), tensor(0.)), (tensor([-0.3650, -0.4604, -0.4772,  1.3754, -1.3754]), tensor(1.)), (tensor([ 0.8301, -0.4604, -0.4772, -0.7271,  0.7271]), tensor(0.)), (tensor([ 0.8301,  0.4011, -0.4772,  1.3754, -1.3754]), tensor(0.)), (tensor([ 0.8301,  1.2625, -0.4772,  1.3754, -1.3754]), tensor(1.)), (tensor([-1.5601, -0.4604, -0.4772,  1.3754, -1.3754]), tensor(1.)), (tensor([ 0.8301,  0.4011, -0.4772, -0.7271,  0.7271]), tensor(0.)), (tensor([-1.5601, -0.4604,  0.7395, -0.7271,  0.7271]), tensor(0.)), (tensor([-1.5601, -0.4604, -0.4772, -0.7271,  0.7271]), tensor(0.)), (tensor([ 0.8301, -0.4604,  1.9562,  1.3754, -1.3754]), tensor(0.)), (tensor([ 0.8301, -0.4604, -0.4772, -0.7271,  0.7271]), tensor(0.)), (tensor([ 0.8301,  1.2625, -0.4772, -0.7271,  0.7271]), tensor(0.)), (tensor([-1.5601, -0.4604, -0.4772, -0.7271,  0.7271]), tensor(1.)), (tensor([ 0.8301, -0.4604, -0.4772, -0.7271,  0.7271]), tensor(0.)), (tensor([ 0.8301, -0.4604, -0.4772, -0.7271,  0.7271]), tensor(0.)), (tensor([ 0.8301, -0.4604, -0.4772,  1.3754, -1.3754]), tensor(0.)), (tensor([ 0.8301, -0.4604, -0.4772,  1.3754, -1.3754]), tensor(0.)), (tensor([ 0.8301,  2.1239,  1.9562, -0.7271,  0.7271]), tensor(0.)), (tensor([-1.5601, -0.4604, -0.4772, -0.7271,  0.7271]), tensor(1.)), (tensor([ 0.8301,  0.4011,  1.9562,  1.3754, -1.3754]), tensor(0.)), (tensor([ 0.8301, -0.4604, -0.4772, -0.7271,  0.7271]), tensor(0.)), (tensor([ 0.8301,  0.4011,  4.3896, -0.7271,  0.7271]), tensor(0.)), (tensor([-0.3650, -0.4604,  1.9562,  1.3754, -1.3754]), tensor(1.)), (tensor([ 0.8301, -0.4604, -0.4772, -0.7271,  0.7271]), tensor(0.)), (tensor([ 0.8301, -0.4604,  0.7395,  1.3754, -1.3754]), tensor(1.)), (tensor([ 0.8301, -0.4604, -0.4772, -0.7271,  0.7271]), tensor(0.)), (tensor([ 0.8301, -0.4604, -0.4772, -0.7271,  0.7271]), tensor(0.)), (tensor([ 0.8301, -0.4604, -0.4772, -0.7271,  0.7271]), tensor(1.)), (tensor([ 0.8301, -0.4604, -0.4772, -0.7271,  0.7271]), tensor(0.)), (tensor([-0.3650, -0.4604,  0.7395,  1.3754, -1.3754]), tensor(1.)), (tensor([-1.5601, -0.4604, -0.4772, -0.7271,  0.7271]), tensor(0.)), (tensor([-1.5601, -0.4604, -0.4772, -0.7271,  0.7271]), tensor(1.)), (tensor([-1.5601,  0.4011, -0.4772, -0.7271,  0.7271]), tensor(0.)), (tensor([ 0.8301,  2.1239,  0.7395, -0.7271,  0.7271]), tensor(0.)), (tensor([ 0.8301, -0.4604, -0.4772,  1.3754, -1.3754]), tensor(0.)), (tensor([-1.5601, -0.4604, -0.4772,  1.3754, -1.3754]), tensor(1.)), (tensor([ 0.8301,  0.4011,  0.7395, -0.7271,  0.7271]), tensor(1.)), (tensor([-1.5601, -0.4604,  0.7395,  1.3754, -1.3754]), tensor(1.)), (tensor([-0.3650,  0.4011,  0.7395, -0.7271,  0.7271]), tensor(1.)), (tensor([ 0.8301, -0.4604, -0.4772, -0.7271,  0.7271]), tensor(0.)), (tensor([ 0.8301,  0.4011, -0.4772, -0.7271,  0.7271]), tensor(0.)), (tensor([ 0.8301, -0.4604,  1.9562, -0.7271,  0.7271]), tensor(0.)), (tensor([-0.3650, -0.4604, -0.4772, -0.7271,  0.7271]), tensor(0.)), (tensor([-1.5601, -0.4604, -0.4772, -0.7271,  0.7271]), tensor(0.)), (tensor([ 0.8301, -0.4604, -0.4772, -0.7271,  0.7271]), tensor(0.)), (tensor([-0.3650, -0.4604, -0.4772, -0.7271,  0.7271]), tensor(0.)), (tensor([-0.3650, -0.4604, -0.4772,  1.3754, -1.3754]), tensor(1.)), (tensor([ 0.8301, -0.4604, -0.4772, -0.7271,  0.7271]), tensor(1.)), (tensor([-0.3650, -0.4604, -0.4772,  1.3754, -1.3754]), tensor(1.)), (tensor([ 0.8301, -0.4604, -0.4772, -0.7271,  0.7271]), tensor(0.)), (tensor([-0.3650, -0.4604, -0.4772, -0.7271,  0.7271]), tensor(0.)), (tensor([ 0.8301, -0.4604,  1.9562,  1.3754, -1.3754]), tensor(0.)), (tensor([-1.5601, -0.4604, -0.4772,  1.3754, -1.3754]), tensor(1.)), (tensor([ 0.8301, -0.4604, -0.4772, -0.7271,  0.7271]), tensor(0.)), (tensor([-1.5601,  0.4011, -0.4772,  1.3754, -1.3754]), tensor(1.)), (tensor([ 0.8301, -0.4604, -0.4772,  1.3754, -1.3754]), tensor(1.)), (tensor([-1.5601, -0.4604, -0.4772,  1.3754, -1.3754]), tensor(1.)), (tensor([ 0.8301, -0.4604, -0.4772, -0.7271,  0.7271]), tensor(0.)), (tensor([ 0.8301, -0.4604, -0.4772, -0.7271,  0.7271]), tensor(0.)), (tensor([-1.5601,  0.4011, -0.4772, -0.7271,  0.7271]), tensor(0.)), (tensor([ 0.8301,  3.8467,  1.9562, -0.7271,  0.7271]), tensor(0.)), (tensor([-1.5601, -0.4604, -0.4772,  1.3754, -1.3754]), tensor(1.)), (tensor([ 0.8301, -0.4604, -0.4772, -0.7271,  0.7271]), tensor(1.)), (tensor([ 0.8301,  0.4011, -0.4772, -0.7271,  0.7271]), tensor(0.)), (tensor([ 0.8301, -0.4604, -0.4772,  1.3754, -1.3754]), tensor(0.)), (tensor([-1.5601, -0.4604, -0.4772, -0.7271,  0.7271]), tensor(1.)), (tensor([ 0.8301, -0.4604, -0.4772, -0.7271,  0.7271]), tensor(0.)), (tensor([-0.3650,  1.2625,  3.1729,  1.3754, -1.3754]), tensor(1.)), (tensor([-1.5601, -0.4604, -0.4772,  1.3754, -1.3754]), tensor(1.)), (tensor([-1.5601, -0.4604, -0.4772, -0.7271,  0.7271]), tensor(0.)), (tensor([-0.3650, -0.4604, -0.4772, -0.7271,  0.7271]), tensor(0.)), (tensor([-1.5601, -0.4604, -0.4772, -0.7271,  0.7271]), tensor(0.)), (tensor([ 0.8301, -0.4604, -0.4772, -0.7271,  0.7271]), tensor(0.)), (tensor([ 0.8301,  0.4011,  0.7395, -0.7271,  0.7271]), tensor(1.)), (tensor([-0.3650,  0.4011,  1.9562,  1.3754, -1.3754]), tensor(1.)), (tensor([ 0.8301, -0.4604, -0.4772, -0.7271,  0.7271]), tensor(0.)), (tensor([-0.3650, -0.4604, -0.4772,  1.3754, -1.3754]), tensor(1.)), (tensor([-0.3650, -0.4604, -0.4772, -0.7271,  0.7271]), tensor(0.)), (tensor([-1.5601, -0.4604,  0.7395,  1.3754, -1.3754]), tensor(1.)), (tensor([ 0.8301, -0.4604, -0.4772, -0.7271,  0.7271]), tensor(0.)), (tensor([-1.5601,  0.4011, -0.4772,  1.3754, -1.3754]), tensor(1.)), (tensor([ 0.8301, -0.4604, -0.4772, -0.7271,  0.7271]), tensor(0.)), (tensor([ 0.8301, -0.4604, -0.4772, -0.7271,  0.7271]), tensor(0.)), (tensor([ 0.8301, -0.4604, -0.4772,  1.3754, -1.3754]), tensor(0.)), (tensor([-0.3650,  0.4011,  0.7395, -0.7271,  0.7271]), tensor(1.)), (tensor([ 0.8301, -0.4604, -0.4772,  1.3754, -1.3754]), tensor(0.)), (tensor([-1.5601, -0.4604, -0.4772, -0.7271,  0.7271]), tensor(0.)), (tensor([ 0.8301, -0.4604, -0.4772, -0.7271,  0.7271]), tensor(0.)), (tensor([-0.3650,  0.4011, -0.4772,  1.3754, -1.3754]), tensor(1.)), (tensor([ 0.8301, -0.4604, -0.4772, -0.7271,  0.7271]), tensor(0.)), (tensor([-0.3650,  1.2625, -0.4772, -0.7271,  0.7271]), tensor(0.)), (tensor([-1.5601, -0.4604, -0.4772, -0.7271,  0.7271]), tensor(0.)), (tensor([ 0.8301,  0.4011,  5.6063, -0.7271,  0.7271]), tensor(0.)), (tensor([-0.3650, -0.4604, -0.4772, -0.7271,  0.7271]), tensor(0.)), (tensor([ 0.8301, -0.4604, -0.4772, -0.7271,  0.7271]), tensor(1.)), (tensor([-1.5601,  0.4011,  0.7395,  1.3754, -1.3754]), tensor(1.)), (tensor([ 0.8301, -0.4604,  0.7395, -0.7271,  0.7271]), tensor(0.)), (tensor([ 0.8301, -0.4604, -0.4772, -0.7271,  0.7271]), tensor(0.)), (tensor([ 0.8301, -0.4604, -0.4772, -0.7271,  0.7271]), tensor(0.)), (tensor([ 0.8301, -0.4604, -0.4772, -0.7271,  0.7271]), tensor(0.)), (tensor([ 0.8301,  0.4011, -0.4772, -0.7271,  0.7271]), tensor(1.)), (tensor([-1.5601, -0.4604, -0.4772,  1.3754, -1.3754]), tensor(1.)), (tensor([-0.3650, -0.4604, -0.4772, -0.7271,  0.7271]), tensor(0.)), (tensor([-1.5601, -0.4604, -0.4772, -0.7271,  0.7271]), tensor(0.)), (tensor([ 0.8301,  2.9853,  0.7395, -0.7271,  0.7271]), tensor(0.)), (tensor([ 0.8301, -0.4604, -0.4772,  1.3754, -1.3754]), tensor(1.)), (tensor([ 0.8301,  2.9853,  0.7395, -0.7271,  0.7271]), tensor(0.)), (tensor([ 0.8301, -0.4604, -0.4772, -0.7271,  0.7271]), tensor(0.)), (tensor([ 0.8301, -0.4604, -0.4772, -0.7271,  0.7271]), tensor(0.)), (tensor([-1.5601, -0.4604,  1.9562,  1.3754, -1.3754]), tensor(1.)), (tensor([-1.5601, -0.4604,  0.7395,  1.3754, -1.3754]), tensor(1.)), (tensor([ 0.8301,  3.8467,  1.9562, -0.7271,  0.7271]), tensor(0.)), (tensor([-1.5601,  0.4011,  1.9562,  1.3754, -1.3754]), tensor(0.)), (tensor([-0.3650,  0.4011,  0.7395,  1.3754, -1.3754]), tensor(1.)), (tensor([-0.3650,  0.4011, -0.4772, -0.7271,  0.7271]), tensor(0.)), (tensor([-0.3650,  1.2625, -0.4772, -0.7271,  0.7271]), tensor(0.)), (tensor([ 0.8301,  0.4011,  1.9562, -0.7271,  0.7271]), tensor(0.)), (tensor([ 0.8301, -0.4604, -0.4772, -0.7271,  0.7271]), tensor(0.)), (tensor([-1.5601, -0.4604, -0.4772, -0.7271,  0.7271]), tensor(0.)), (tensor([ 0.8301, -0.4604, -0.4772, -0.7271,  0.7271]), tensor(0.)), (tensor([ 0.8301, -0.4604, -0.4772, -0.7271,  0.7271]), tensor(1.)), (tensor([ 0.8301, -0.4604, -0.4772, -0.7271,  0.7271]), tensor(1.)), (tensor([ 0.8301,  0.4011,  0.7395, -0.7271,  0.7271]), tensor(1.)), (tensor([-0.3650, -0.4604,  0.7395,  1.3754, -1.3754]), tensor(1.)), (tensor([ 0.8301, -0.4604, -0.4772,  1.3754, -1.3754]), tensor(1.)), (tensor([-1.5601,  0.4011, -0.4772,  1.3754, -1.3754]), tensor(1.)), (tensor([-0.3650, -0.4604, -0.4772,  1.3754, -1.3754]), tensor(1.)), (tensor([-1.5601,  0.4011, -0.4772,  1.3754, -1.3754]), tensor(1.)), (tensor([-0.3650, -0.4604, -0.4772,  1.3754, -1.3754]), tensor(0.)), (tensor([ 0.8301,  1.2625, -0.4772, -0.7271,  0.7271]), tensor(0.)), (tensor([ 0.8301, -0.4604, -0.4772, -0.7271,  0.7271]), tensor(0.)), (tensor([ 0.8301, -0.4604, -0.4772, -0.7271,  0.7271]), tensor(1.)), (tensor([-0.3650,  0.4011,  0.7395, -0.7271,  0.7271]), tensor(1.)), (tensor([-0.3650, -0.4604, -0.4772, -0.7271,  0.7271]), tensor(0.)), (tensor([ 0.8301,  2.9853,  0.7395, -0.7271,  0.7271]), tensor(0.)), (tensor([ 0.8301, -0.4604, -0.4772, -0.7271,  0.7271]), tensor(1.)), (tensor([ 0.8301, -0.4604, -0.4772,  1.3754, -1.3754]), tensor(1.)), (tensor([ 0.8301, -0.4604, -0.4772, -0.7271,  0.7271]), tensor(0.)), (tensor([ 0.8301, -0.4604, -0.4772,  1.3754, -1.3754]), tensor(0.)), (tensor([ 0.8301, -0.4604, -0.4772, -0.7271,  0.7271]), tensor(0.)), (tensor([ 0.8301,  6.4310,  1.9562,  1.3754, -1.3754]), tensor(0.)), (tensor([ 0.8301,  6.4310,  1.9562,  1.3754, -1.3754]), tensor(0.)), (tensor([ 0.8301,  2.1239,  0.7395, -0.7271,  0.7271]), tensor(0.)), (tensor([-1.5601, -0.4604, -0.4772, -0.7271,  0.7271]), tensor(0.)), (tensor([ 0.8301,  0.4011, -0.4772,  1.3754, -1.3754]), tensor(1.)), (tensor([ 0.8301, -0.4604, -0.4772,  1.3754, -1.3754]), tensor(1.)), (tensor([-1.5601, -0.4604,  0.7395, -0.7271,  0.7271]), tensor(1.)), (tensor([ 0.8301, -0.4604, -0.4772, -0.7271,  0.7271]), tensor(0.)), (tensor([-0.3650, -0.4604, -0.4772, -0.7271,  0.7271]), tensor(0.)), (tensor([-0.3650,  0.4011,  1.9562, -0.7271,  0.7271]), tensor(0.)), (tensor([ 0.8301, -0.4604, -0.4772, -0.7271,  0.7271]), tensor(0.)), (tensor([-1.5601, -0.4604,  1.9562,  1.3754, -1.3754]), tensor(1.)), (tensor([-0.3650, -0.4604,  0.7395,  1.3754, -1.3754]), tensor(1.)), (tensor([ 0.8301,  0.4011,  0.7395, -0.7271,  0.7271]), tensor(0.)), (tensor([ 0.8301, -0.4604,  1.9562,  1.3754, -1.3754]), tensor(0.)), (tensor([ 0.8301,  0.4011,  1.9562, -0.7271,  0.7271]), tensor(0.)), (tensor([-1.5601, -0.4604, -0.4772,  1.3754, -1.3754]), tensor(1.)), (tensor([ 0.8301, -0.4604, -0.4772, -0.7271,  0.7271]), tensor(0.)), (tensor([ 0.8301, -0.4604,  0.7395, -0.7271,  0.7271]), tensor(1.)), (tensor([-0.3650, -0.4604, -0.4772, -0.7271,  0.7271]), tensor(0.)), (tensor([-1.5601,  0.4011, -0.4772, -0.7271,  0.7271]), tensor(1.)), (tensor([-0.3650, -0.4604, -0.4772, -0.7271,  0.7271]), tensor(0.)), (tensor([-1.5601,  2.1239,  1.9562,  1.3754, -1.3754]), tensor(1.)), (tensor([ 0.8301, -0.4604, -0.4772,  1.3754, -1.3754]), tensor(1.)), (tensor([-1.5601,  2.1239,  1.9562,  1.3754, -1.3754]), tensor(1.)), (tensor([-1.5601, -0.4604, -0.4772,  1.3754, -1.3754]), tensor(1.)), (tensor([ 0.8301,  6.4310,  1.9562, -0.7271,  0.7271]), tensor(0.)), (tensor([-0.3650, -0.4604, -0.4772,  1.3754, -1.3754]), tensor(0.)), (tensor([ 0.8301, -0.4604, -0.4772, -0.7271,  0.7271]), tensor(1.)), (tensor([ 0.8301, -0.4604, -0.4772, -0.7271,  0.7271]), tensor(0.)), (tensor([ 0.8301, -0.4604,  1.9562,  1.3754, -1.3754]), tensor(1.)), (tensor([-1.5601,  0.4011,  1.9562,  1.3754, -1.3754]), tensor(0.)), (tensor([ 0.8301,  0.4011, -0.4772, -0.7271,  0.7271]), tensor(0.)), (tensor([-1.5601,  0.4011, -0.4772,  1.3754, -1.3754]), tensor(1.)), (tensor([-0.3650, -0.4604, -0.4772, -0.7271,  0.7271]), tensor(1.)), (tensor([ 0.8301, -0.4604, -0.4772, -0.7271,  0.7271]), tensor(1.)), (tensor([ 0.8301,  2.9853,  1.9562,  1.3754, -1.3754]), tensor(0.)), (tensor([ 0.8301, -0.4604, -0.4772, -0.7271,  0.7271]), tensor(0.)), (tensor([-1.5601,  0.4011, -0.4772, -0.7271,  0.7271]), tensor(0.)), (tensor([-0.3650, -0.4604, -0.4772,  1.3754, -1.3754]), tensor(1.)), (tensor([ 0.8301, -0.4604, -0.4772, -0.7271,  0.7271]), tensor(0.)), (tensor([-0.3650,  0.4011, -0.4772, -0.7271,  0.7271]), tensor(0.)), (tensor([-1.5601, -0.4604,  1.9562,  1.3754, -1.3754]), tensor(1.)), (tensor([ 0.8301,  0.4011,  3.1729,  1.3754, -1.3754]), tensor(0.)), (tensor([ 0.8301, -0.4604, -0.4772, -0.7271,  0.7271]), tensor(0.)), (tensor([ 0.8301, -0.4604, -0.4772, -0.7271,  0.7271]), tensor(0.)), (tensor([-0.3650, -0.4604, -0.4772, -0.7271,  0.7271]), tensor(0.)), (tensor([ 0.8301, -0.4604, -0.4772, -0.7271,  0.7271]), tensor(0.)), (tensor([ 0.8301, -0.4604, -0.4772, -0.7271,  0.7271]), tensor(0.)), (tensor([ 0.8301, -0.4604, -0.4772, -0.7271,  0.7271]), tensor(0.)), (tensor([ 0.8301,  0.4011,  0.7395, -0.7271,  0.7271]), tensor(0.)), (tensor([-1.5601,  0.4011, -0.4772, -0.7271,  0.7271]), tensor(0.)), (tensor([-1.5601,  0.4011,  0.7395, -0.7271,  0.7271]), tensor(0.)), (tensor([ 0.8301, -0.4604, -0.4772, -0.7271,  0.7271]), tensor(0.)), (tensor([ 0.8301, -0.4604, -0.4772, -0.7271,  0.7271]), tensor(0.)), (tensor([-0.3650, -0.4604, -0.4772, -0.7271,  0.7271]), tensor(0.)), (tensor([ 0.8301, -0.4604, -0.4772, -0.7271,  0.7271]), tensor(0.)), (tensor([ 0.8301,  2.1239,  0.7395,  1.3754, -1.3754]), tensor(0.)), (tensor([ 0.8301, -0.4604,  1.9562,  1.3754, -1.3754]), tensor(1.)), (tensor([ 0.8301, -0.4604, -0.4772,  1.3754, -1.3754]), tensor(1.)), (tensor([ 0.8301, -0.4604, -0.4772, -0.7271,  0.7271]), tensor(0.)), (tensor([ 0.8301, -0.4604, -0.4772, -0.7271,  0.7271]), tensor(0.)), (tensor([ 0.8301,  0.4011, -0.4772,  1.3754, -1.3754]), tensor(0.)), (tensor([-1.5601, -0.4604,  0.7395,  1.3754, -1.3754]), tensor(1.)), (tensor([ 0.8301, -0.4604, -0.4772, -0.7271,  0.7271]), tensor(1.)), (tensor([-1.5601,  0.4011,  4.3896, -0.7271,  0.7271]), tensor(0.)), (tensor([ 0.8301, -0.4604, -0.4772, -0.7271,  0.7271]), tensor(0.)), (tensor([ 0.8301, -0.4604, -0.4772,  1.3754, -1.3754]), tensor(1.)), (tensor([-1.5601, -0.4604,  0.7395,  1.3754, -1.3754]), tensor(1.)), (tensor([-1.5601,  0.4011, -0.4772,  1.3754, -1.3754]), tensor(1.)), (tensor([-1.5601, -0.4604, -0.4772, -0.7271,  0.7271]), tensor(0.)), (tensor([ 0.8301, -0.4604, -0.4772, -0.7271,  0.7271]), tensor(0.)), (tensor([ 0.8301, -0.4604, -0.4772, -0.7271,  0.7271]), tensor(0.)), (tensor([ 0.8301,  1.2625,  0.7395,  1.3754, -1.3754]), tensor(1.)), (tensor([ 0.8301, -0.4604, -0.4772, -0.7271,  0.7271]), tensor(0.)), (tensor([ 0.8301, -0.4604, -0.4772, -0.7271,  0.7271]), tensor(0.)), (tensor([-1.5601, -0.4604, -0.4772, -0.7271,  0.7271]), tensor(1.)), (tensor([-0.3650, -0.4604, -0.4772, -0.7271,  0.7271]), tensor(0.)), (tensor([-0.3650, -0.4604, -0.4772, -0.7271,  0.7271]), tensor(1.)), (tensor([ 0.8301,  0.4011,  0.7395, -0.7271,  0.7271]), tensor(0.)), (tensor([-1.5601, -0.4604,  1.9562, -0.7271,  0.7271]), tensor(1.)), (tensor([-0.3650,  0.4011, -0.4772, -0.7271,  0.7271]), tensor(0.)), (tensor([ 0.8301, -0.4604, -0.4772, -0.7271,  0.7271]), tensor(0.)), (tensor([ 0.8301,  0.4011,  5.6063,  1.3754, -1.3754]), tensor(1.)), (tensor([-1.5601, -0.4604, -0.4772, -0.7271,  0.7271]), tensor(0.)), (tensor([-0.3650, -0.4604, -0.4772, -0.7271,  0.7271]), tensor(0.)), (tensor([ 0.8301, -0.4604, -0.4772, -0.7271,  0.7271]), tensor(0.)), (tensor([ 0.8301, -0.4604, -0.4772, -0.7271,  0.7271]), tensor(0.)), (tensor([ 0.8301, -0.4604, -0.4772, -0.7271,  0.7271]), tensor(0.)), (tensor([-1.5601,  0.4011, -0.4772, -0.7271,  0.7271]), tensor(1.)), (tensor([ 0.8301, -0.4604, -0.4772, -0.7271,  0.7271]), tensor(0.)), (tensor([ 0.8301, -0.4604, -0.4772, -0.7271,  0.7271]), tensor(0.)), (tensor([-1.5601, -0.4604, -0.4772, -0.7271,  0.7271]), tensor(0.)), (tensor([ 0.8301, -0.4604, -0.4772, -0.7271,  0.7271]), tensor(0.)), (tensor([-0.3650,  0.4011,  0.7395,  1.3754, -1.3754]), tensor(1.)), (tensor([-0.3650, -0.4604, -0.4772,  1.3754, -1.3754]), tensor(1.)), (tensor([-1.5601,  0.4011,  0.7395, -0.7271,  0.7271]), tensor(1.)), (tensor([-0.3650,  0.4011,  1.9562, -0.7271,  0.7271]), tensor(0.)), (tensor([ 0.8301, -0.4604, -0.4772, -0.7271,  0.7271]), tensor(0.)), (tensor([-1.5601, -0.4604, -0.4772, -0.7271,  0.7271]), tensor(1.)), (tensor([ 0.8301, -0.4604, -0.4772,  1.3754, -1.3754]), tensor(1.)), (tensor([ 0.8301,  0.4011,  0.7395,  1.3754, -1.3754]), tensor(1.)), (tensor([ 0.8301, -0.4604, -0.4772, -0.7271,  0.7271]), tensor(0.)), (tensor([-1.5601, -0.4604, -0.4772,  1.3754, -1.3754]), tensor(1.)), (tensor([-0.3650, -0.4604, -0.4772, -0.7271,  0.7271]), tensor(1.)), (tensor([ 0.8301, -0.4604, -0.4772, -0.7271,  0.7271]), tensor(0.)), (tensor([-1.5601, -0.4604, -0.4772, -0.7271,  0.7271]), tensor(0.)), (tensor([-0.3650,  0.4011,  0.7395, -0.7271,  0.7271]), tensor(0.)), (tensor([ 0.8301, -0.4604, -0.4772, -0.7271,  0.7271]), tensor(0.)), (tensor([ 0.8301, -0.4604, -0.4772, -0.7271,  0.7271]), tensor(1.)), (tensor([ 0.8301, -0.4604, -0.4772, -0.7271,  0.7271]), tensor(0.)), (tensor([ 0.8301, -0.4604, -0.4772, -0.7271,  0.7271]), tensor(0.)), (tensor([ 0.8301, -0.4604, -0.4772, -0.7271,  0.7271]), tensor(1.)), (tensor([ 0.8301, -0.4604,  1.9562,  1.3754, -1.3754]), tensor(1.)), (tensor([ 0.8301,  0.4011, -0.4772, -0.7271,  0.7271]), tensor(0.)), (tensor([ 0.8301, -0.4604, -0.4772, -0.7271,  0.7271]), tensor(0.)), (tensor([-1.5601, -0.4604, -0.4772, -0.7271,  0.7271]), tensor(0.)), (tensor([-1.5601,  0.4011, -0.4772,  1.3754, -1.3754]), tensor(1.)), (tensor([-1.5601, -0.4604, -0.4772,  1.3754, -1.3754]), tensor(1.)), (tensor([ 0.8301,  2.9853,  1.9562, -0.7271,  0.7271]), tensor(0.)), (tensor([ 0.8301, -0.4604, -0.4772,  1.3754, -1.3754]), tensor(1.)), (tensor([ 0.8301, -0.4604, -0.4772, -0.7271,  0.7271]), tensor(0.)), (tensor([-1.5601,  0.4011, -0.4772,  1.3754, -1.3754]), tensor(1.)), (tensor([-1.5601, -0.4604, -0.4772,  1.3754, -1.3754]), tensor(1.)), (tensor([-0.3650,  0.4011,  1.9562,  1.3754, -1.3754]), tensor(1.)), (tensor([ 0.8301,  0.4011,  3.1729, -0.7271,  0.7271]), tensor(0.)), (tensor([ 0.8301, -0.4604, -0.4772, -0.7271,  0.7271]), tensor(1.)), (tensor([-1.5601,  0.4011,  0.7395,  1.3754, -1.3754]), tensor(1.)), (tensor([-0.3650,  0.4011,  1.9562,  1.3754, -1.3754]), tensor(1.)), (tensor([-0.3650,  0.4011, -0.4772,  1.3754, -1.3754]), tensor(0.)), (tensor([ 0.8301, -0.4604, -0.4772, -0.7271,  0.7271]), tensor(0.)), (tensor([-0.3650, -0.4604, -0.4772, -0.7271,  0.7271]), tensor(0.)), (tensor([-1.5601, -0.4604, -0.4772, -0.7271,  0.7271]), tensor(1.)), (tensor([-0.3650, -0.4604,  1.9562, -0.7271,  0.7271]), tensor(0.)), (tensor([ 0.8301, -0.4604, -0.4772, -0.7271,  0.7271]), tensor(0.)), (tensor([-0.3650,  0.4011, -0.4772, -0.7271,  0.7271]), tensor(0.)), (tensor([-0.3650, -0.4604, -0.4772,  1.3754, -1.3754]), tensor(1.)), (tensor([-0.3650, -0.4604, -0.4772, -0.7271,  0.7271]), tensor(0.)), (tensor([ 0.8301, -0.4604, -0.4772, -0.7271,  0.7271]), tensor(0.)), (tensor([-0.3650, -0.4604,  0.7395,  1.3754, -1.3754]), tensor(1.)), (tensor([-1.5601, -0.4604,  1.9562, -0.7271,  0.7271]), tensor(0.)), (tensor([ 0.8301, -0.4604, -0.4772, -0.7271,  0.7271]), tensor(0.)), (tensor([ 0.8301, -0.4604, -0.4772, -0.7271,  0.7271]), tensor(0.)), (tensor([-1.5601, -0.4604, -0.4772, -0.7271,  0.7271]), tensor(1.)), (tensor([ 0.8301, -0.4604, -0.4772, -0.7271,  0.7271]), tensor(0.)), (tensor([-1.5601, -0.4604, -0.4772, -0.7271,  0.7271]), tensor(0.)), (tensor([-1.5601,  0.4011, -0.4772, -0.7271,  0.7271]), tensor(1.)), (tensor([-1.5601, -0.4604, -0.4772, -0.7271,  0.7271]), tensor(1.)), (tensor([-1.5601,  0.4011, -0.4772,  1.3754, -1.3754]), tensor(1.)), (tensor([ 0.8301,  6.4310,  1.9562, -0.7271,  0.7271]), tensor(0.)), (tensor([ 0.8301, -0.4604, -0.4772,  1.3754, -1.3754]), tensor(1.)), (tensor([ 0.8301, -0.4604, -0.4772,  1.3754, -1.3754]), tensor(1.)), (tensor([ 0.8301,  0.4011,  5.6063,  1.3754, -1.3754]), tensor(0.)), (tensor([-0.3650, -0.4604, -0.4772,  1.3754, -1.3754]), tensor(1.)), (tensor([-0.3650, -0.4604, -0.4772, -0.7271,  0.7271]), tensor(0.)), (tensor([-1.5601,  0.4011, -0.4772, -0.7271,  0.7271]), tensor(1.)), (tensor([-1.5601, -0.4604, -0.4772,  1.3754, -1.3754]), tensor(1.)), (tensor([ 0.8301, -0.4604, -0.4772, -0.7271,  0.7271]), tensor(0.)), (tensor([ 0.8301, -0.4604,  0.7395, -0.7271,  0.7271]), tensor(0.)), (tensor([ 0.8301, -0.4604, -0.4772, -0.7271,  0.7271]), tensor(0.)), (tensor([-0.3650,  0.4011, -0.4772,  1.3754, -1.3754]), tensor(0.)), (tensor([ 0.8301, -0.4604, -0.4772, -0.7271,  0.7271]), tensor(0.)), (tensor([ 0.8301, -0.4604, -0.4772, -0.7271,  0.7271]), tensor(0.)), (tensor([-1.5601,  0.4011,  0.7395,  1.3754, -1.3754]), tensor(1.)), (tensor([-1.5601,  0.4011,  1.9562, -0.7271,  0.7271]), tensor(1.)), (tensor([ 0.8301, -0.4604, -0.4772, -0.7271,  0.7271]), tensor(0.)), (tensor([-1.5601, -0.4604, -0.4772, -0.7271,  0.7271]), tensor(0.)), (tensor([ 0.8301, -0.4604, -0.4772, -0.7271,  0.7271]), tensor(0.)), (tensor([-0.3650, -0.4604, -0.4772, -0.7271,  0.7271]), tensor(0.)), (tensor([ 0.8301, -0.4604, -0.4772, -0.7271,  0.7271]), tensor(0.)), (tensor([-1.5601,  1.2625, -0.4772, -0.7271,  0.7271]), tensor(1.)), (tensor([ 0.8301, -0.4604, -0.4772, -0.7271,  0.7271]), tensor(0.)), (tensor([ 0.8301,  6.4310,  1.9562,  1.3754, -1.3754]), tensor(0.)), (tensor([ 0.8301, -0.4604, -0.4772, -0.7271,  0.7271]), tensor(0.)), (tensor([-1.5601, -0.4604, -0.4772,  1.3754, -1.3754]), tensor(1.)), (tensor([ 0.8301, -0.4604, -0.4772,  1.3754, -1.3754]), tensor(1.)), (tensor([-0.3650,  0.4011,  3.1729,  1.3754, -1.3754]), tensor(1.)), (tensor([ 0.8301,  6.4310,  1.9562, -0.7271,  0.7271]), tensor(0.)), (tensor([ 0.8301, -0.4604, -0.4772, -0.7271,  0.7271]), tensor(0.)), (tensor([-0.3650, -0.4604, -0.4772,  1.3754, -1.3754]), tensor(1.)), (tensor([-1.5601, -0.4604, -0.4772, -0.7271,  0.7271]), tensor(0.)), (tensor([ 0.8301,  1.2625, -0.4772, -0.7271,  0.7271]), tensor(0.)), (tensor([ 0.8301, -0.4604, -0.4772, -0.7271,  0.7271]), tensor(0.)), (tensor([-0.3650, -0.4604, -0.4772, -0.7271,  0.7271]), tensor(0.)), (tensor([ 0.8301, -0.4604, -0.4772, -0.7271,  0.7271]), tensor(0.)), (tensor([ 0.8301, -0.4604, -0.4772,  1.3754, -1.3754]), tensor(1.)), (tensor([-1.5601, -0.4604, -0.4772, -0.7271,  0.7271]), tensor(1.)), (tensor([-1.5601, -0.4604,  0.7395,  1.3754, -1.3754]), tensor(1.)), (tensor([ 0.8301,  2.9853,  1.9562,  1.3754, -1.3754]), tensor(0.)), (tensor([-1.5601,  0.4011, -0.4772,  1.3754, -1.3754]), tensor(1.)), (tensor([ 0.8301, -0.4604, -0.4772, -0.7271,  0.7271]), tensor(0.)), (tensor([ 0.8301, -0.4604, -0.4772, -0.7271,  0.7271]), tensor(0.)), (tensor([-1.5601, -0.4604, -0.4772,  1.3754, -1.3754]), tensor(1.)), (tensor([ 0.8301, -0.4604, -0.4772, -0.7271,  0.7271]), tensor(0.)), (tensor([ 0.8301,  0.4011, -0.4772, -0.7271,  0.7271]), tensor(0.)), (tensor([ 0.8301, -0.4604, -0.4772, -0.7271,  0.7271]), tensor(0.)), (tensor([ 0.8301,  0.4011, -0.4772,  1.3754, -1.3754]), tensor(0.)), (tensor([ 0.8301, -0.4604, -0.4772, -0.7271,  0.7271]), tensor(0.)), (tensor([ 0.8301, -0.4604, -0.4772, -0.7271,  0.7271]), tensor(0.)), (tensor([-1.5601, -0.4604,  0.7395, -0.7271,  0.7271]), tensor(0.)), (tensor([ 0.8301, -0.4604, -0.4772, -0.7271,  0.7271]), tensor(0.)), (tensor([ 0.8301, -0.4604, -0.4772, -0.7271,  0.7271]), tensor(0.)), (tensor([-1.5601, -0.4604,  1.9562, -0.7271,  0.7271]), tensor(1.)), (tensor([-0.3650,  0.4011, -0.4772,  1.3754, -1.3754]), tensor(1.)), (tensor([ 0.8301,  0.4011, -0.4772,  1.3754, -1.3754]), tensor(1.)), (tensor([ 0.8301,  0.4011,  0.7395,  1.3754, -1.3754]), tensor(1.)), (tensor([-1.5601,  0.4011,  1.9562, -0.7271,  0.7271]), tensor(1.)), (tensor([ 0.8301, -0.4604, -0.4772,  1.3754, -1.3754]), tensor(1.)), (tensor([-0.3650,  1.2625,  0.7395, -0.7271,  0.7271]), tensor(1.)), (tensor([ 0.8301, -0.4604, -0.4772, -0.7271,  0.7271]), tensor(0.)), (tensor([ 0.8301, -0.4604, -0.4772, -0.7271,  0.7271]), tensor(1.)), (tensor([ 0.8301, -0.4604, -0.4772, -0.7271,  0.7271]), tensor(0.)), (tensor([-1.5601,  0.4011, -0.4772,  1.3754, -1.3754]), tensor(1.)), (tensor([ 0.8301, -0.4604, -0.4772, -0.7271,  0.7271]), tensor(0.)), (tensor([-0.3650, -0.4604, -0.4772, -0.7271,  0.7271]), tensor(0.)), (tensor([-0.3650,  0.4011, -0.4772, -0.7271,  0.7271]), tensor(1.)), (tensor([-1.5601,  0.4011, -0.4772, -0.7271,  0.7271]), tensor(0.)), (tensor([ 0.8301,  0.4011, -0.4772, -0.7271,  0.7271]), tensor(0.)), (tensor([ 0.8301, -0.4604, -0.4772,  1.3754, -1.3754]), tensor(1.)), (tensor([-0.3650, -0.4604, -0.4772, -0.7271,  0.7271]), tensor(0.)), (tensor([-0.3650, -0.4604, -0.4772, -0.7271,  0.7271]), tensor(1.)), (tensor([ 0.8301,  0.4011,  0.7395,  1.3754, -1.3754]), tensor(0.)), (tensor([ 0.8301,  1.2625,  1.9562,  1.3754, -1.3754]), tensor(0.)), (tensor([-1.5601, -0.4604,  1.9562, -0.7271,  0.7271]), tensor(0.)), (tensor([ 0.8301, -0.4604, -0.4772,  1.3754, -1.3754]), tensor(1.)), (tensor([ 0.8301, -0.4604,  3.1729,  1.3754, -1.3754]), tensor(1.)), (tensor([-1.5601, -0.4604, -0.4772,  1.3754, -1.3754]), tensor(0.)), (tensor([-0.3650,  0.4011, -0.4772, -0.7271,  0.7271]), tensor(0.)), (tensor([ 0.8301,  2.9853,  1.9562, -0.7271,  0.7271]), tensor(0.)), (tensor([ 0.8301,  1.2625,  0.7395,  1.3754, -1.3754]), tensor(1.)), (tensor([ 0.8301,  0.4011, -0.4772,  1.3754, -1.3754]), tensor(1.)), (tensor([ 0.8301, -0.4604, -0.4772, -0.7271,  0.7271]), tensor(0.)), (tensor([ 0.8301,  0.4011,  0.7395, -0.7271,  0.7271]), tensor(1.)), (tensor([-0.3650,  0.4011,  0.7395, -0.7271,  0.7271]), tensor(1.)), (tensor([ 0.8301, -0.4604, -0.4772, -0.7271,  0.7271]), tensor(0.)), (tensor([ 0.8301, -0.4604, -0.4772,  1.3754, -1.3754]), tensor(1.)), (tensor([-0.3650, -0.4604, -0.4772, -0.7271,  0.7271]), tensor(0.)), (tensor([ 0.8301, -0.4604, -0.4772, -0.7271,  0.7271]), tensor(0.)), (tensor([-1.5601, -0.4604, -0.4772,  1.3754, -1.3754]), tensor(1.)), (tensor([ 0.8301, -0.4604, -0.4772,  1.3754, -1.3754]), tensor(1.)), (tensor([-1.5601,  0.4011, -0.4772,  1.3754, -1.3754]), tensor(1.)), (tensor([-0.3650,  0.4011, -0.4772,  1.3754, -1.3754]), tensor(1.)), (tensor([-1.5601, -0.4604, -0.4772, -0.7271,  0.7271]), tensor(0.)), (tensor([ 0.8301, -0.4604, -0.4772, -0.7271,  0.7271]), tensor(0.)), (tensor([-0.3650, -0.4604, -0.4772, -0.7271,  0.7271]), tensor(0.)), (tensor([-1.5601,  0.4011, -0.4772,  1.3754, -1.3754]), tensor(1.)), (tensor([-0.3650, -0.4604, -0.4772, -0.7271,  0.7271]), tensor(0.)), (tensor([-0.3650,  0.4011,  0.7395, -0.7271,  0.7271]), tensor(0.)), (tensor([ 0.8301, -0.4604, -0.4772,  1.3754, -1.3754]), tensor(0.)), (tensor([-0.3650,  1.2625,  0.7395,  1.3754, -1.3754]), tensor(1.)), (tensor([-0.3650,  0.4011,  1.9562,  1.3754, -1.3754]), tensor(1.)), (tensor([-0.3650, -0.4604, -0.4772, -0.7271,  0.7271]), tensor(0.)), (tensor([-1.5601,  0.4011, -0.4772, -0.7271,  0.7271]), tensor(1.)), (tensor([ 0.8301, -0.4604, -0.4772, -0.7271,  0.7271]), tensor(1.)), (tensor([-0.3650,  0.4011,  1.9562,  1.3754, -1.3754]), tensor(1.)), (tensor([-0.3650, -0.4604, -0.4772, -0.7271,  0.7271]), tensor(0.)), (tensor([-0.3650, -0.4604, -0.4772, -0.7271,  0.7271]), tensor(0.)), (tensor([-0.3650,  0.4011, -0.4772,  1.3754, -1.3754]), tensor(1.)), (tensor([ 0.8301, -0.4604, -0.4772,  1.3754, -1.3754]), tensor(1.)), (tensor([-1.5601, -0.4604, -0.4772, -0.7271,  0.7271]), tensor(1.)), (tensor([-1.5601,  0.4011,  1.9562,  1.3754, -1.3754]), tensor(1.)), (tensor([-1.5601,  0.4011,  0.7395,  1.3754, -1.3754]), tensor(1.)), (tensor([ 0.8301,  0.4011, -0.4772,  1.3754, -1.3754]), tensor(1.)), (tensor([ 0.8301, -0.4604, -0.4772, -0.7271,  0.7271]), tensor(0.)), (tensor([ 0.8301,  0.4011, -0.4772,  1.3754, -1.3754]), tensor(1.)), (tensor([-0.3650,  0.4011,  0.7395, -0.7271,  0.7271]), tensor(0.))]\n"
     ]
    }
   ],
   "source": [
    "'''\n",
    "transform = transforms.Compose(\n",
    "    [transforms.ToTensor()]\n",
    ")\n",
    "'''\n",
    "\n",
    "X_train_tensor = torch.from_numpy(X_train)\n",
    "y_train_tensor = torch.from_numpy(train_y)\n",
    "X_val_tensor = torch.from_numpy(X_val)\n",
    "y_val_tensor = torch.from_numpy(val_y)\n",
    "\n",
    "X_train_gpu, y_train_gpu = X_train_tensor.to(device), y_train_tensor.to(device)\n",
    "X_val_gpu, y_val_gpu = X_val_tensor.to(device), y_val_tensor.to(device)\n",
    "#https://stackoverflow.com/a/66971839/9481613\n",
    "\n",
    "training_labelled = [*zip(X_train_tensor, y_train_tensor)]\n",
    "validation_labelled = [*zip(X_val_tensor, y_val_tensor)]\n",
    "\n",
    "training_loader = DataLoader(training_labelled, batch_size=64, shuffle=True)\n",
    "validation_loader = DataLoader(validation_labelled, batch_size=64, shuffle=False)\n",
    "\n",
    "print(X_train_gpu.shape, X_train_gpu)\n",
    "print(len(training_labelled), training_labelled)\n"
   ]
  },
  {
   "cell_type": "code",
   "execution_count": 71,
   "metadata": {},
   "outputs": [
    {
     "name": "stdout",
     "output_type": "stream",
     "text": [
      "Using cuda device\n"
     ]
    }
   ],
   "source": []
  },
  {
   "cell_type": "code",
   "execution_count": null,
   "metadata": {},
   "outputs": [],
   "source": []
  },
  {
   "cell_type": "code",
   "execution_count": 93,
   "metadata": {},
   "outputs": [],
   "source": [
    "class NeuralNetwork(nn.Module):\n",
    "    def __init__(self):\n",
    "        super().__init__()\n",
    "        self.flatten = nn.Flatten()\n",
    "        self.linear_relu_stack = nn.Sequential(\n",
    "            nn.BatchNorm1d(5),\n",
    "            nn.Linear(5,128),\n",
    "            nn.ReLU(),\n",
    "            nn.BatchNorm1d(128),\n",
    "            nn.Dropout(p=0.2),\n",
    "            nn.Linear(128,1),\n",
    "            nn.Sigmoid()\n",
    "        )\n",
    "    def forward(self, x):\n",
    "        #x.to(device)\n",
    "        x = self.flatten(x)\n",
    "        logits = self.linear_relu_stack(x)\n",
    "        return logits"
   ]
  },
  {
   "cell_type": "code",
   "execution_count": 94,
   "metadata": {},
   "outputs": [
    {
     "name": "stdout",
     "output_type": "stream",
     "text": [
      "NeuralNetwork(\n",
      "  (flatten): Flatten(start_dim=1, end_dim=-1)\n",
      "  (linear_relu_stack): Sequential(\n",
      "    (0): BatchNorm1d(5, eps=1e-05, momentum=0.1, affine=True, track_running_stats=True)\n",
      "    (1): Linear(in_features=5, out_features=128, bias=True)\n",
      "    (2): ReLU()\n",
      "    (3): BatchNorm1d(128, eps=1e-05, momentum=0.1, affine=True, track_running_stats=True)\n",
      "    (4): Dropout(p=0.2, inplace=False)\n",
      "    (5): Linear(in_features=128, out_features=1, bias=True)\n",
      "    (6): Sigmoid()\n",
      "  )\n",
      ")\n"
     ]
    }
   ],
   "source": [
    "model = NeuralNetwork().to(device)\n",
    "print(model)"
   ]
  },
  {
   "cell_type": "code",
   "execution_count": 95,
   "metadata": {},
   "outputs": [],
   "source": [
    "#loss_fn = torch.nn.functional.binary_cross_entropy()\n",
    "loss_fn = torch.nn.CrossEntropyLoss()\n",
    "optimizer = torch.optim.SGD(model.parameters(), lr=0.001, momentum=0.9)"
   ]
  },
  {
   "cell_type": "code",
   "execution_count": 96,
   "metadata": {},
   "outputs": [],
   "source": [
    "def train_one_epoch(epoch_idx, tb_writer):\n",
    "    running_loss = 0.\n",
    "    last_loss = 0.\n",
    "    \n",
    "    # use enumerate(training loader) instead of\n",
    "    # iter(training_loader) to track batch idx and \n",
    "    # do intra-epoch reporting\n",
    "    #for i, data in enumerate(training_loader):\n",
    "    #for i, data in iter(training_labelled):\n",
    "    for i in range(len(X_train_gpu)):\n",
    "        inputs, labels = X_train_gpu[i], y_train_gpu[i]\n",
    "        #inputs.to(device)\n",
    "        #labels.to(device)\n",
    "        #zero out gradient each batch\n",
    "        optimizer.zero_grad()\n",
    "        \n",
    "        #predict\n",
    "        outputs = model(inputs)\n",
    "        #print(f'outputs: {outputs}')\n",
    "        #outputs.to('cpu')\n",
    "        #compute loss and gradients\n",
    "        loss = loss_fn(outputs, labels)\n",
    "        loss.backward()\n",
    "        \n",
    "        #adjust learning weights\n",
    "        optimizer.step()\n",
    "        \n",
    "        #gather data and report\n",
    "        running_loss += loss.item()\n",
    "        '''\n",
    "        if i % 1000 == 999:\n",
    "            last_loss = running_loss / 1000\n",
    "            print(f'   batch{i+1} loss: {last_loss}')\n",
    "            tb_x = epoch_idx * len(training_loader) + i + 1\n",
    "            tb_writer.add_scalar('loss/train', last_loss, tb_x)\n",
    "            running_loss = 0.\n",
    "        ''' \n",
    "    return last_loss \n"
   ]
  },
  {
   "cell_type": "code",
   "execution_count": 98,
   "metadata": {},
   "outputs": [
    {
     "ename": "IndexError",
     "evalue": "Dimension out of range (expected to be in range of [-1, 0], but got 1)",
     "output_type": "error",
     "traceback": [
      "\u001b[0;31m---------------------------------------------------------------------------\u001b[0m",
      "\u001b[0;31mIndexError\u001b[0m                                Traceback (most recent call last)",
      "Cell \u001b[0;32mIn[98], line 11\u001b[0m\n\u001b[1;32m      9\u001b[0m \u001b[39mfor\u001b[39;00m epoch \u001b[39min\u001b[39;00m \u001b[39mrange\u001b[39m(EPOCHS):\n\u001b[1;32m     10\u001b[0m     model\u001b[39m.\u001b[39mtrain(\u001b[39mTrue\u001b[39;00m)\n\u001b[0;32m---> 11\u001b[0m     avg_loss \u001b[39m=\u001b[39m train_one_epoch(epoch_number, writer)\n\u001b[1;32m     13\u001b[0m     \u001b[39m# don't need gradients on to do reporting\u001b[39;00m\n\u001b[1;32m     14\u001b[0m     model\u001b[39m.\u001b[39mtrain(\u001b[39mFalse\u001b[39;00m)\n",
      "Cell \u001b[0;32mIn[96], line 18\u001b[0m, in \u001b[0;36mtrain_one_epoch\u001b[0;34m(epoch_idx, tb_writer)\u001b[0m\n\u001b[1;32m     15\u001b[0m optimizer\u001b[39m.\u001b[39mzero_grad()\n\u001b[1;32m     17\u001b[0m \u001b[39m#predict\u001b[39;00m\n\u001b[0;32m---> 18\u001b[0m outputs \u001b[39m=\u001b[39m model(inputs)\n\u001b[1;32m     19\u001b[0m \u001b[39m#print(f'outputs: {outputs}')\u001b[39;00m\n\u001b[1;32m     20\u001b[0m \u001b[39m#outputs.to('cpu')\u001b[39;00m\n\u001b[1;32m     21\u001b[0m \u001b[39m#compute loss and gradients\u001b[39;00m\n\u001b[1;32m     22\u001b[0m loss \u001b[39m=\u001b[39m loss_fn(outputs, labels)\n",
      "File \u001b[0;32m~/miniconda3/envs/pytorch/lib/python3.9/site-packages/torch/nn/modules/module.py:1501\u001b[0m, in \u001b[0;36mModule._call_impl\u001b[0;34m(self, *args, **kwargs)\u001b[0m\n\u001b[1;32m   1496\u001b[0m \u001b[39m# If we don't have any hooks, we want to skip the rest of the logic in\u001b[39;00m\n\u001b[1;32m   1497\u001b[0m \u001b[39m# this function, and just call forward.\u001b[39;00m\n\u001b[1;32m   1498\u001b[0m \u001b[39mif\u001b[39;00m \u001b[39mnot\u001b[39;00m (\u001b[39mself\u001b[39m\u001b[39m.\u001b[39m_backward_hooks \u001b[39mor\u001b[39;00m \u001b[39mself\u001b[39m\u001b[39m.\u001b[39m_backward_pre_hooks \u001b[39mor\u001b[39;00m \u001b[39mself\u001b[39m\u001b[39m.\u001b[39m_forward_hooks \u001b[39mor\u001b[39;00m \u001b[39mself\u001b[39m\u001b[39m.\u001b[39m_forward_pre_hooks\n\u001b[1;32m   1499\u001b[0m         \u001b[39mor\u001b[39;00m _global_backward_pre_hooks \u001b[39mor\u001b[39;00m _global_backward_hooks\n\u001b[1;32m   1500\u001b[0m         \u001b[39mor\u001b[39;00m _global_forward_hooks \u001b[39mor\u001b[39;00m _global_forward_pre_hooks):\n\u001b[0;32m-> 1501\u001b[0m     \u001b[39mreturn\u001b[39;00m forward_call(\u001b[39m*\u001b[39;49margs, \u001b[39m*\u001b[39;49m\u001b[39m*\u001b[39;49mkwargs)\n\u001b[1;32m   1502\u001b[0m \u001b[39m# Do not call functions when jit is used\u001b[39;00m\n\u001b[1;32m   1503\u001b[0m full_backward_hooks, non_full_backward_hooks \u001b[39m=\u001b[39m [], []\n",
      "Cell \u001b[0;32mIn[93], line 16\u001b[0m, in \u001b[0;36mNeuralNetwork.forward\u001b[0;34m(self, x)\u001b[0m\n\u001b[1;32m     14\u001b[0m \u001b[39mdef\u001b[39;00m \u001b[39mforward\u001b[39m(\u001b[39mself\u001b[39m, x):\n\u001b[1;32m     15\u001b[0m     \u001b[39m#x.to(device)\u001b[39;00m\n\u001b[0;32m---> 16\u001b[0m     x \u001b[39m=\u001b[39m \u001b[39mself\u001b[39;49m\u001b[39m.\u001b[39;49mflatten(x)\n\u001b[1;32m     17\u001b[0m     logits \u001b[39m=\u001b[39m \u001b[39mself\u001b[39m\u001b[39m.\u001b[39mlinear_relu_stack(x)\n\u001b[1;32m     18\u001b[0m     \u001b[39mreturn\u001b[39;00m logits\n",
      "File \u001b[0;32m~/miniconda3/envs/pytorch/lib/python3.9/site-packages/torch/nn/modules/module.py:1501\u001b[0m, in \u001b[0;36mModule._call_impl\u001b[0;34m(self, *args, **kwargs)\u001b[0m\n\u001b[1;32m   1496\u001b[0m \u001b[39m# If we don't have any hooks, we want to skip the rest of the logic in\u001b[39;00m\n\u001b[1;32m   1497\u001b[0m \u001b[39m# this function, and just call forward.\u001b[39;00m\n\u001b[1;32m   1498\u001b[0m \u001b[39mif\u001b[39;00m \u001b[39mnot\u001b[39;00m (\u001b[39mself\u001b[39m\u001b[39m.\u001b[39m_backward_hooks \u001b[39mor\u001b[39;00m \u001b[39mself\u001b[39m\u001b[39m.\u001b[39m_backward_pre_hooks \u001b[39mor\u001b[39;00m \u001b[39mself\u001b[39m\u001b[39m.\u001b[39m_forward_hooks \u001b[39mor\u001b[39;00m \u001b[39mself\u001b[39m\u001b[39m.\u001b[39m_forward_pre_hooks\n\u001b[1;32m   1499\u001b[0m         \u001b[39mor\u001b[39;00m _global_backward_pre_hooks \u001b[39mor\u001b[39;00m _global_backward_hooks\n\u001b[1;32m   1500\u001b[0m         \u001b[39mor\u001b[39;00m _global_forward_hooks \u001b[39mor\u001b[39;00m _global_forward_pre_hooks):\n\u001b[0;32m-> 1501\u001b[0m     \u001b[39mreturn\u001b[39;00m forward_call(\u001b[39m*\u001b[39;49margs, \u001b[39m*\u001b[39;49m\u001b[39m*\u001b[39;49mkwargs)\n\u001b[1;32m   1502\u001b[0m \u001b[39m# Do not call functions when jit is used\u001b[39;00m\n\u001b[1;32m   1503\u001b[0m full_backward_hooks, non_full_backward_hooks \u001b[39m=\u001b[39m [], []\n",
      "File \u001b[0;32m~/miniconda3/envs/pytorch/lib/python3.9/site-packages/torch/nn/modules/flatten.py:46\u001b[0m, in \u001b[0;36mFlatten.forward\u001b[0;34m(self, input)\u001b[0m\n\u001b[1;32m     45\u001b[0m \u001b[39mdef\u001b[39;00m \u001b[39mforward\u001b[39m(\u001b[39mself\u001b[39m, \u001b[39minput\u001b[39m: Tensor) \u001b[39m-\u001b[39m\u001b[39m>\u001b[39m Tensor:\n\u001b[0;32m---> 46\u001b[0m     \u001b[39mreturn\u001b[39;00m \u001b[39minput\u001b[39;49m\u001b[39m.\u001b[39;49mflatten(\u001b[39mself\u001b[39;49m\u001b[39m.\u001b[39;49mstart_dim, \u001b[39mself\u001b[39;49m\u001b[39m.\u001b[39;49mend_dim)\n",
      "\u001b[0;31mIndexError\u001b[0m: Dimension out of range (expected to be in range of [-1, 0], but got 1)"
     ]
    }
   ],
   "source": [
    "timestamp = datetime.now().strftime('%Y%m%d_%H%M%S')\n",
    "writer = SummaryWriter(f'runs/titanic_pytorch_trainer_{timestamp}')\n",
    "epoch_number = 0\n",
    "\n",
    "EPOCHS = 5\n",
    "\n",
    "best_vloss = 1_000_000.\n",
    "\n",
    "for epoch in range(EPOCHS):\n",
    "    model.train(True)\n",
    "    avg_loss = train_one_epoch(epoch_number, writer)\n",
    "    \n",
    "    # don't need gradients on to do reporting\n",
    "    model.train(False)\n",
    "    \n",
    "    running_vloss = 0.0\n",
    "    for i, vdata in enumerate(validation_loader):\n",
    "        vinputs, vlabels = vdata\n",
    "        vinputs.to(device)\n",
    "        vlabels.to(device) \n",
    "        voutputs = model(vinputs)\n",
    "        vloss = loss_fn(voutputs, vlabels)\n",
    "        running_vloss += vloss \n",
    "        \n",
    "    avg_vloss = running_vloss / (i + 1)\n",
    "    print(f'LOSS train {avg_loss} valid {avg_vloss}')\n",
    "    \n",
    "    # log running loss averaged per batch for training and validation\n",
    "    writer.add_scalars('Training vs. Validation Loss',\n",
    "                       {'Training': avg_loss, 'Validation': avg_vloss},\n",
    "                       epoch_number + 1)\n",
    "    writer.flush()\n",
    "    \n",
    "    # track best performance and save model's state\n",
    "    if avg_vloss < best_vloss:\n",
    "        best_vloss = avg_vloss\n",
    "        model_path = f'model_{timestamp}_{epoch_number}'\n",
    "        torch.save(model.state_dict(), model_path)\n",
    "    \n",
    "    epoch_number += 1\n",
    "    "
   ]
  },
  {
   "attachments": {},
   "cell_type": "markdown",
   "metadata": {},
   "source": []
  }
 ],
 "metadata": {
  "kernelspec": {
   "display_name": "Python 3 (ipykernel)",
   "language": "python",
   "name": "python3"
  },
  "language_info": {
   "codemirror_mode": {
    "name": "ipython",
    "version": 3
   },
   "file_extension": ".py",
   "mimetype": "text/x-python",
   "name": "python",
   "nbconvert_exporter": "python",
   "pygments_lexer": "ipython3",
   "version": "3.9.16"
  }
 },
 "nbformat": 4,
 "nbformat_minor": 4
}
